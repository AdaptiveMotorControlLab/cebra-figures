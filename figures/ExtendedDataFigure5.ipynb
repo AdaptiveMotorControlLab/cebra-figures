{
 "cells": [
  {
   "cell_type": "markdown",
   "id": "865de6c1",
   "metadata": {},
   "source": [
    "# Extended Data Figure 5: Hypothesis testing with CEBRA."
   ]
  },
  {
   "cell_type": "markdown",
   "id": "2d473d1f",
   "metadata": {},
   "source": [
    "## panel a"
   ]
  },
  {
   "cell_type": "code",
   "execution_count": 1,
   "id": "7c263bdd",
   "metadata": {
    "execution": {
     "iopub.execute_input": "2022-08-29T10:35:17.482711Z",
     "iopub.status.busy": "2022-08-29T10:35:17.481878Z",
     "iopub.status.idle": "2022-08-29T10:35:17.488560Z",
     "shell.execute_reply": "2022-08-29T10:35:17.487638Z"
    }
   },
   "outputs": [],
   "source": [
    "\n",
    "# TODO:"
   ]
  },
  {
   "cell_type": "markdown",
   "id": "93062dbc",
   "metadata": {},
   "source": [
    "## panel b"
   ]
  },
  {
   "cell_type": "code",
   "execution_count": 2,
   "id": "84941eb1",
   "metadata": {
    "execution": {
     "iopub.execute_input": "2022-08-29T10:35:17.494056Z",
     "iopub.status.busy": "2022-08-29T10:35:17.493325Z",
     "iopub.status.idle": "2022-08-29T10:35:17.497902Z",
     "shell.execute_reply": "2022-08-29T10:35:17.496764Z"
    }
   },
   "outputs": [],
   "source": [
    "\n",
    "# ## panel c"
   ]
  },
  {
   "cell_type": "code",
   "execution_count": 3,
   "id": "60dac7b8",
   "metadata": {
    "execution": {
     "iopub.execute_input": "2022-08-29T10:35:17.502926Z",
     "iopub.status.busy": "2022-08-29T10:35:17.502265Z",
     "iopub.status.idle": "2022-08-29T10:35:17.506923Z",
     "shell.execute_reply": "2022-08-29T10:35:17.505684Z"
    }
   },
   "outputs": [],
   "source": [
    "\n",
    "# ## panel d"
   ]
  },
  {
   "cell_type": "code",
   "execution_count": null,
   "id": "830023db",
   "metadata": {},
   "outputs": [],
   "source": []
  }
 ],
 "metadata": {
  "jupytext": {
   "formats": "ipynb,py:light"
  },
  "kernelspec": {
   "display_name": "Python 3 (ipykernel)",
   "language": "python",
   "name": "python3"
  },
  "language_info": {
   "codemirror_mode": {
    "name": "ipython",
    "version": 3
   },
   "file_extension": ".py",
   "mimetype": "text/x-python",
   "name": "python",
   "nbconvert_exporter": "python",
   "pygments_lexer": "ipython3",
   "version": "3.9.12"
  }
 },
 "nbformat": 4,
 "nbformat_minor": 5
}
