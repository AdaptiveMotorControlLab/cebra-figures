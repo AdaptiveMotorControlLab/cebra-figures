{
 "cells": [
  {
   "cell_type": "markdown",
   "id": "f76793bd",
   "metadata": {},
   "source": [
    "# Extended Data Figure 5: Hypothesis testing with CEBRA."
   ]
  },
  {
   "cell_type": "markdown",
   "id": "8ec71a67",
   "metadata": {},
   "source": [
    "### Example data from a hippocampus recording session (Rat 1). \n",
    "\n",
    "- We test possible relationships between three experimental variables (rat location, velocity, movement direction) and the neural recordings (120 neurons, not shown)."
   ]
  },
  {
   "cell_type": "code",
   "execution_count": 1,
   "id": "99a981d4",
   "metadata": {
    "execution": {
     "iopub.execute_input": "2022-09-02T10:00:07.328835Z",
     "iopub.status.busy": "2022-09-02T10:00:07.328433Z",
     "iopub.status.idle": "2022-09-02T10:00:07.347316Z",
     "shell.execute_reply": "2022-09-02T10:00:07.346471Z"
    }
   },
   "outputs": [],
   "source": [
    "# TODO:"
   ]
  },
  {
   "cell_type": "markdown",
   "id": "eda58d69",
   "metadata": {},
   "source": [
    "### Relationship between velocity and position."
   ]
  },
  {
   "cell_type": "code",
   "execution_count": 2,
   "id": "f8bdcc60",
   "metadata": {
    "execution": {
     "iopub.execute_input": "2022-09-02T10:00:07.358409Z",
     "iopub.status.busy": "2022-09-02T10:00:07.357799Z",
     "iopub.status.idle": "2022-09-02T10:00:07.361622Z",
     "shell.execute_reply": "2022-09-02T10:00:07.360855Z"
    }
   },
   "outputs": [],
   "source": [
    "# TODO:"
   ]
  },
  {
   "cell_type": "markdown",
   "id": "db79ca82",
   "metadata": {},
   "source": [
    "### Training CEBRA with three-dimensional outputs on every single experimental variable (main diagonal) and every combination of two variables. \n",
    "\n",
    "- All variables are treated as \"continuous\" in this experiment. We compare original to shuffled variables (shuffling is done by permuting all samples over the time dimension) as a control. We project the original three dimensional space onto the first principal components. We show the minimum value of the InfoNCE loss on the trained embedding for all combinations in the confusion matrix (lower number is better). Either velocity or direction, paired with position information is needed for maximum structure in the embedding (highlighted, colored), yielding lowest InfoNCE error."
   ]
  },
  {
   "cell_type": "markdown",
   "id": "da0f8e73",
   "metadata": {},
   "source": [
    "### Using an eight-dimensional CEBRA embedding does not qualitatively alter the results. \n",
    "\n",
    "- We again report the first two principal components as well as InfoNCE training error upon convergence, and find non-trivial embeddings with lowest training error for combinations of direction/velocity and position."
   ]
  },
  {
   "cell_type": "code",
   "execution_count": 3,
   "id": "f30927b9",
   "metadata": {
    "execution": {
     "iopub.execute_input": "2022-09-02T10:00:07.417976Z",
     "iopub.status.busy": "2022-09-02T10:00:07.417504Z",
     "iopub.status.idle": "2022-09-02T10:00:07.422267Z",
     "shell.execute_reply": "2022-09-02T10:00:07.421113Z"
    }
   },
   "outputs": [],
   "source": [
    "# TODO:"
   ]
  }
 ],
 "metadata": {
  "jupytext": {
   "formats": "ipynb,py:light"
  },
  "kernelspec": {
   "display_name": "Python 3",
   "language": "python",
   "name": "python3"
  },
  "language_info": {
   "codemirror_mode": {
    "name": "ipython",
    "version": 3
   },
   "file_extension": ".py",
   "mimetype": "text/x-python",
   "name": "python",
   "nbconvert_exporter": "python",
   "pygments_lexer": "ipython3",
   "version": "3.8.0"
  }
 },
 "nbformat": 4,
 "nbformat_minor": 5
}
