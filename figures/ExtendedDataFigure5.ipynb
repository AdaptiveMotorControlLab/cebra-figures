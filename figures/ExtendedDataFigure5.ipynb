{
 "cells": [
  {
   "cell_type": "markdown",
   "id": "71338f33",
   "metadata": {},
   "source": [
    "# Extended Data Figure 5: Hypothesis testing with CEBRA."
   ]
  },
  {
   "cell_type": "markdown",
   "id": "dcbd9a0f",
   "metadata": {},
   "source": [
    "## panel a"
   ]
  },
  {
   "cell_type": "code",
   "execution_count": 1,
   "id": "1b2c1021",
   "metadata": {
    "execution": {
     "iopub.execute_input": "2022-08-29T10:25:50.600819Z",
     "iopub.status.busy": "2022-08-29T10:25:50.600375Z",
     "iopub.status.idle": "2022-08-29T10:25:50.604058Z",
     "shell.execute_reply": "2022-08-29T10:25:50.603626Z"
    }
   },
   "outputs": [],
   "source": [
    "\n",
    "# TODO:"
   ]
  },
  {
   "cell_type": "markdown",
   "id": "cf400427",
   "metadata": {},
   "source": [
    "## panel b"
   ]
  },
  {
   "cell_type": "code",
   "execution_count": 2,
   "id": "23ac3ee9",
   "metadata": {
    "execution": {
     "iopub.execute_input": "2022-08-29T10:25:50.606550Z",
     "iopub.status.busy": "2022-08-29T10:25:50.606184Z",
     "iopub.status.idle": "2022-08-29T10:25:50.608640Z",
     "shell.execute_reply": "2022-08-29T10:25:50.608181Z"
    }
   },
   "outputs": [],
   "source": [
    "\n",
    "# ## panel c"
   ]
  },
  {
   "cell_type": "code",
   "execution_count": 3,
   "id": "ad8237cb",
   "metadata": {
    "execution": {
     "iopub.execute_input": "2022-08-29T10:25:50.611788Z",
     "iopub.status.busy": "2022-08-29T10:25:50.611452Z",
     "iopub.status.idle": "2022-08-29T10:25:50.613705Z",
     "shell.execute_reply": "2022-08-29T10:25:50.613298Z"
    }
   },
   "outputs": [],
   "source": [
    "\n",
    "# ## panel d"
   ]
  },
  {
   "cell_type": "code",
   "execution_count": null,
   "id": "7200d914",
   "metadata": {},
   "outputs": [],
   "source": []
  }
 ],
 "metadata": {
  "jupytext": {
   "formats": "ipynb,py:light"
  },
  "kernelspec": {
   "display_name": "Python 3 (ipykernel)",
   "language": "python",
   "name": "python3"
  },
  "language_info": {
   "codemirror_mode": {
    "name": "ipython",
    "version": 3
   },
   "file_extension": ".py",
   "mimetype": "text/x-python",
   "name": "python",
   "nbconvert_exporter": "python",
   "pygments_lexer": "ipython3",
   "version": "3.9.12"
  }
 },
 "nbformat": 4,
 "nbformat_minor": 5
}
