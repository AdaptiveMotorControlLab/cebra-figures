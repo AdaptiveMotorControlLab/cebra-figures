{
 "cells": [
  {
   "cell_type": "markdown",
   "id": "b5d109f2",
   "metadata": {},
   "source": [
    "# Extended Data Figure 2: Hyperparameter changes on visualization and consistency."
   ]
  },
  {
   "cell_type": "markdown",
   "id": "afe77666",
   "metadata": {},
   "source": [
    "## panel a"
   ]
  },
  {
   "cell_type": "code",
   "execution_count": 1,
   "id": "16fe6f49",
   "metadata": {
    "execution": {
     "iopub.execute_input": "2022-08-29T10:25:37.829493Z",
     "iopub.status.busy": "2022-08-29T10:25:37.828952Z",
     "iopub.status.idle": "2022-08-29T10:25:37.835069Z",
     "shell.execute_reply": "2022-08-29T10:25:37.834245Z"
    }
   },
   "outputs": [],
   "source": [
    "# TODO: Temperature ablation plots"
   ]
  },
  {
   "cell_type": "markdown",
   "id": "34d7b9e2",
   "metadata": {},
   "source": [
    "## panel b"
   ]
  },
  {
   "cell_type": "code",
   "execution_count": 2,
   "id": "957a1bd9",
   "metadata": {
    "execution": {
     "iopub.execute_input": "2022-08-29T10:25:37.839049Z",
     "iopub.status.busy": "2022-08-29T10:25:37.838516Z",
     "iopub.status.idle": "2022-08-29T10:25:37.843238Z",
     "shell.execute_reply": "2022-08-29T10:25:37.842376Z"
    }
   },
   "outputs": [],
   "source": [
    "# Consistency comparison across temperature values"
   ]
  }
 ],
 "metadata": {
  "jupytext": {
   "formats": "ipynb,py:light"
  },
  "kernelspec": {
   "display_name": "Python 3 (ipykernel)",
   "language": "python",
   "name": "python3"
  },
  "language_info": {
   "codemirror_mode": {
    "name": "ipython",
    "version": 3
   },
   "file_extension": ".py",
   "mimetype": "text/x-python",
   "name": "python",
   "nbconvert_exporter": "python",
   "pygments_lexer": "ipython3",
   "version": "3.9.12"
  }
 },
 "nbformat": 4,
 "nbformat_minor": 5
}
