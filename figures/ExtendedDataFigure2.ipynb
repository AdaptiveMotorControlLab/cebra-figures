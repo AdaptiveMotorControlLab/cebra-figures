{
 "cells": [
  {
   "cell_type": "markdown",
   "id": "93bdcc7f",
   "metadata": {},
   "source": [
    "# Extended Data Figure 2: Hyperparameter changes on visualization and consistency."
   ]
  },
  {
   "cell_type": "markdown",
   "id": "f33bb242",
   "metadata": {},
   "source": [
    "## panel a"
   ]
  },
  {
   "cell_type": "code",
   "execution_count": 1,
   "id": "54ee9f76",
   "metadata": {
    "execution": {
     "iopub.execute_input": "2022-08-29T10:35:05.419845Z",
     "iopub.status.busy": "2022-08-29T10:35:05.419358Z",
     "iopub.status.idle": "2022-08-29T10:35:05.425267Z",
     "shell.execute_reply": "2022-08-29T10:35:05.424474Z"
    }
   },
   "outputs": [],
   "source": [
    "# TODO: Temperature ablation plots"
   ]
  },
  {
   "cell_type": "markdown",
   "id": "9f5025e6",
   "metadata": {},
   "source": [
    "## panel b"
   ]
  },
  {
   "cell_type": "code",
   "execution_count": 2,
   "id": "b15aefb5",
   "metadata": {
    "execution": {
     "iopub.execute_input": "2022-08-29T10:35:05.429629Z",
     "iopub.status.busy": "2022-08-29T10:35:05.429249Z",
     "iopub.status.idle": "2022-08-29T10:35:05.433091Z",
     "shell.execute_reply": "2022-08-29T10:35:05.432345Z"
    }
   },
   "outputs": [],
   "source": [
    "# Consistency comparison across temperature values"
   ]
  }
 ],
 "metadata": {
  "jupytext": {
   "formats": "ipynb,py:light"
  },
  "kernelspec": {
   "display_name": "Python 3 (ipykernel)",
   "language": "python",
   "name": "python3"
  },
  "language_info": {
   "codemirror_mode": {
    "name": "ipython",
    "version": 3
   },
   "file_extension": ".py",
   "mimetype": "text/x-python",
   "name": "python",
   "nbconvert_exporter": "python",
   "pygments_lexer": "ipython3",
   "version": "3.9.12"
  }
 },
 "nbformat": 4,
 "nbformat_minor": 5
}
