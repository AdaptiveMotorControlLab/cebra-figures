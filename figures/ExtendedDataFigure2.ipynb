{
 "cells": [
  {
   "cell_type": "markdown",
   "id": "13811fb6",
   "metadata": {},
   "source": [
    "# Extended Data Figure 2: Hyperparameter changes on visualization and consistency."
   ]
  },
  {
   "cell_type": "markdown",
   "id": "ef82b267",
   "metadata": {},
   "source": [
    "### Temperature has the largest effect on visualization (vs. consistency) of the embedding\n",
    "\n",
    "- shown by a range from 0.1 to 3.21 (highest consistency for Rat 1), as can be appreciated in 3D (top) and post FastICA into a 2D embedding (middle). Bottom row shows the corresponding change on mean consistency. \n",
    "\n",
    "- Note, tempature is both a learnable and easily modified parameter in CEBRA."
   ]
  },
  {
   "cell_type": "code",
   "execution_count": 1,
   "id": "7ce4a854",
   "metadata": {
    "execution": {
     "iopub.execute_input": "2022-09-02T10:00:07.412649Z",
     "iopub.status.busy": "2022-09-02T10:00:07.412184Z",
     "iopub.status.idle": "2022-09-02T10:00:07.427783Z",
     "shell.execute_reply": "2022-09-02T10:00:07.426811Z"
    }
   },
   "outputs": [],
   "source": [
    "# TODO: Temperature ablation plots"
   ]
  },
  {
   "cell_type": "markdown",
   "id": "37dc77da",
   "metadata": {},
   "source": [
    "- Orange line denotes the median and black dots are individual runs (subject consistency: 10 runs with 3 comparisons per rat; run consistency: 10 runs, each compared to 9 remaining runs)."
   ]
  },
  {
   "cell_type": "code",
   "execution_count": 2,
   "id": "6c406582",
   "metadata": {
    "execution": {
     "iopub.execute_input": "2022-09-02T10:00:07.433545Z",
     "iopub.status.busy": "2022-09-02T10:00:07.433008Z",
     "iopub.status.idle": "2022-09-02T10:00:07.438456Z",
     "shell.execute_reply": "2022-09-02T10:00:07.437347Z"
    }
   },
   "outputs": [],
   "source": [
    "# Consistency comparison across temperature values"
   ]
  }
 ],
 "metadata": {
  "jupytext": {
   "formats": "ipynb,py:light"
  },
  "kernelspec": {
   "display_name": "Python 3",
   "language": "python",
   "name": "python3"
  },
  "language_info": {
   "codemirror_mode": {
    "name": "ipython",
    "version": 3
   },
   "file_extension": ".py",
   "mimetype": "text/x-python",
   "name": "python",
   "nbconvert_exporter": "python",
   "pygments_lexer": "ipython3",
   "version": "3.8.0"
  }
 },
 "nbformat": 4,
 "nbformat_minor": 5
}
