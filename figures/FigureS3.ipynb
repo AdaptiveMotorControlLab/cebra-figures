{
 "cells": [
  {
   "cell_type": "markdown",
   "id": "c1d7ee3c",
   "metadata": {},
   "source": [
    "# Figure S3: Hyperparameter changes on visualization and consistency."
   ]
  },
  {
   "cell_type": "markdown",
   "id": "9b7be3fc",
   "metadata": {},
   "source": [
    "## Figure S3a"
   ]
  },
  {
   "cell_type": "code",
   "execution_count": 1,
   "id": "8df9575d",
   "metadata": {
    "execution": {
     "iopub.execute_input": "2022-08-17T16:30:54.441980Z",
     "iopub.status.busy": "2022-08-17T16:30:54.441519Z",
     "iopub.status.idle": "2022-08-17T16:30:54.451004Z",
     "shell.execute_reply": "2022-08-17T16:30:54.450024Z"
    }
   },
   "outputs": [],
   "source": [
    "# TODO: Temperature ablation plots"
   ]
  },
  {
   "cell_type": "markdown",
   "id": "ba388e17",
   "metadata": {},
   "source": [
    "## Figure S3b"
   ]
  },
  {
   "cell_type": "code",
   "execution_count": 2,
   "id": "1a637050",
   "metadata": {
    "execution": {
     "iopub.execute_input": "2022-08-17T16:30:54.457493Z",
     "iopub.status.busy": "2022-08-17T16:30:54.456777Z",
     "iopub.status.idle": "2022-08-17T16:30:54.461903Z",
     "shell.execute_reply": "2022-08-17T16:30:54.460920Z"
    }
   },
   "outputs": [],
   "source": [
    "# Consistency comparison across temperature values"
   ]
  }
 ],
 "metadata": {
  "jupytext": {
   "formats": "ipynb,py:light"
  },
  "kernelspec": {
   "display_name": "Python 3 (ipykernel)",
   "language": "python",
   "name": "python3"
  },
  "language_info": {
   "codemirror_mode": {
    "name": "ipython",
    "version": 3
   },
   "file_extension": ".py",
   "mimetype": "text/x-python",
   "name": "python",
   "nbconvert_exporter": "python",
   "pygments_lexer": "ipython3",
   "version": "3.10.6"
  }
 },
 "nbformat": 4,
 "nbformat_minor": 5
}
