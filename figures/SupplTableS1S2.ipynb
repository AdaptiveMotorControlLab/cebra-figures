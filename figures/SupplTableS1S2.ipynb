{
 "cells": [
  {
   "cell_type": "markdown",
   "id": "291d404a",
   "metadata": {},
   "source": [
    "# Table S1-2"
   ]
  },
  {
   "cell_type": "code",
   "execution_count": 1,
   "id": "21ccb82a",
   "metadata": {
    "execution": {
     "iopub.execute_input": "2022-12-14T23:54:15.585646Z",
     "iopub.status.busy": "2022-12-14T23:54:15.585366Z",
     "iopub.status.idle": "2022-12-14T23:54:16.364283Z",
     "shell.execute_reply": "2022-12-14T23:54:16.363657Z"
    }
   },
   "outputs": [],
   "source": [
    "import joblib as jl\n",
    "import matplotlib.pyplot as plt\n",
    "import numpy as np\n",
    "import pandas as pd\n",
    "import scipy.stats\n",
    "import seaborn as sns\n",
    "import sklearn.metrics\n",
    "from statsmodels.sandbox.stats.multicomp import get_tukey_pvalue\n",
    "from statsmodels.stats.multicomp import pairwise_tukeyhsd\n",
    "from statsmodels.stats.oneway import anova_oneway"
   ]
  },
  {
   "cell_type": "code",
   "execution_count": 2,
   "id": "73ca0096",
   "metadata": {
    "execution": {
     "iopub.execute_input": "2022-12-14T23:54:16.370465Z",
     "iopub.status.busy": "2022-12-14T23:54:16.369338Z",
     "iopub.status.idle": "2022-12-14T23:54:16.374383Z",
     "shell.execute_reply": "2022-12-14T23:54:16.373766Z"
    }
   },
   "outputs": [],
   "source": [
    "def anova_with_report(data):\n",
    "    # One way ANOVA, helper function for formatting\n",
    "    control = scipy.stats.f_oneway(*data)\n",
    "    print(control)\n",
    "    a = anova_oneway(\n",
    "        data,\n",
    "        use_var=\"equal\",\n",
    "    )\n",
    "    assert np.isclose(a.pvalue, control.pvalue), (a.pvalue, control.pvalue)\n",
    "    assert np.isclose(a.statistic, control.statistic)\n",
    "    return f\"F = {a.statistic}, p = {a.pvalue}\\n\\n    \" + \"\\n    \".join(\n",
    "        str(a).split(\"\\n\")\n",
    "    )"
   ]
  },
  {
   "cell_type": "code",
   "execution_count": 3,
   "id": "ac974cc8",
   "metadata": {
    "execution": {
     "iopub.execute_input": "2022-12-14T23:54:16.378840Z",
     "iopub.status.busy": "2022-12-14T23:54:16.378598Z",
     "iopub.status.idle": "2022-12-14T23:54:16.381632Z",
     "shell.execute_reply": "2022-12-14T23:54:16.381167Z"
    }
   },
   "outputs": [],
   "source": [
    "DATA = \"../data/SupplTable1.h5\""
   ]
  },
  {
   "cell_type": "markdown",
   "id": "b4a92c19",
   "metadata": {},
   "source": [
    "## Table S1: Consistency across subjects"
   ]
  },
  {
   "cell_type": "markdown",
   "id": "38eb122f",
   "metadata": {},
   "source": [
    "We compare the consistency across subjects of all available methods depicted in Figure 1:"
   ]
  },
  {
   "cell_type": "code",
   "execution_count": 4,
   "id": "acdbab44",
   "metadata": {
    "execution": {
     "iopub.execute_input": "2022-12-14T23:54:16.386194Z",
     "iopub.status.busy": "2022-12-14T23:54:16.386033Z",
     "iopub.status.idle": "2022-12-14T23:54:16.389098Z",
     "shell.execute_reply": "2022-12-14T23:54:16.388508Z"
    }
   },
   "outputs": [],
   "source": [
    "methods = [\n",
    "    \"cebra_10_b\",\n",
    "    \"cebra_10_t\",\n",
    "    \"pivae_10_w\",\n",
    "    \"pivae_10_wo\",\n",
    "    \"tsne\",\n",
    "    \"umap\",\n",
    "    \"autolfads\",\n",
    "]"
   ]
  },
  {
   "cell_type": "code",
   "execution_count": 5,
   "id": "922cb324",
   "metadata": {
    "execution": {
     "iopub.execute_input": "2022-12-14T23:54:16.393833Z",
     "iopub.status.busy": "2022-12-14T23:54:16.393547Z",
     "iopub.status.idle": "2022-12-14T23:54:16.398148Z",
     "shell.execute_reply": "2022-12-14T23:54:16.397644Z"
    }
   },
   "outputs": [],
   "source": [
    "def subject_consistency(key):\n",
    "    if key == \"autolfads\":\n",
    "        autolfads_consistency = np.array(\n",
    "            [\n",
    "                [0.52405768, 0.54354575, 0.5984262],\n",
    "                [0.61116595, 0.59024053, 0.747014],\n",
    "                [0.68505602, 0.60948229, 0.57858312],\n",
    "                [0.77841349, 0.78809085, 0.65031025],\n",
    "            ]\n",
    "        )\n",
    "        return autolfads_consistency.flatten()\n",
    "    else:\n",
    "        data = (\n",
    "            pd.read_hdf(DATA, key=key)\n",
    "            .pivot_table(\n",
    "                \"train\", columns=\"animal\", aggfunc=lambda v: np.mean(np.array(v))\n",
    "            )\n",
    "            .agg(np.concatenate, axis=1)\n",
    "            .item()\n",
    "        )\n",
    "        return data\n",
    "\n",
    "\n",
    "def load_data(keys):\n",
    "    return pd.DataFrame(\n",
    "        [{\"method\": key, \"metric\": subject_consistency(key)} for key in keys]\n",
    "    )"
   ]
  },
  {
   "cell_type": "code",
   "execution_count": 6,
   "id": "e372c0da",
   "metadata": {
    "execution": {
     "iopub.execute_input": "2022-12-14T23:54:16.403019Z",
     "iopub.status.busy": "2022-12-14T23:54:16.402867Z",
     "iopub.status.idle": "2022-12-14T23:54:16.968801Z",
     "shell.execute_reply": "2022-12-14T23:54:16.968175Z"
    }
   },
   "outputs": [
    {
     "name": "stdout",
     "output_type": "stream",
     "text": [
      "\n",
      "# Subject Consistency\n",
      "\n",
      "Anova:  F_onewayResult(statistic=25.454720289784103, pvalue=1.9171102662989993e-16)\n",
      "\n",
      "Post Hoc test:\n",
      "\n",
      "     Multiple Comparison of Means - Tukey HSD, FWER=0.05      \n",
      "==============================================================\n",
      "   group1      group2   meandiff p-adj   lower   upper  reject\n",
      "--------------------------------------------------------------\n",
      "  autolfads  cebra_10_b    0.301    0.0  0.1549  0.4472   True\n",
      "  autolfads  cebra_10_t    0.129 0.1192 -0.0171  0.2752  False\n",
      "  autolfads  pivae_10_w   0.1049 0.3219 -0.0412  0.2511  False\n",
      "  autolfads pivae_10_wo  -0.1111 0.2569 -0.2572  0.0351  False\n",
      "  autolfads        tsne   0.0369 0.9876 -0.1092   0.183  False\n",
      "  autolfads        umap  -0.2312 0.0002 -0.3774 -0.0851   True\n",
      " cebra_10_b  cebra_10_t   -0.172 0.0108 -0.3181 -0.0258   True\n",
      " cebra_10_b  pivae_10_w  -0.1961 0.0021 -0.3423   -0.05   True\n",
      " cebra_10_b pivae_10_wo  -0.4121    0.0 -0.5582  -0.266   True\n",
      " cebra_10_b        tsne  -0.2641    0.0 -0.4103  -0.118   True\n",
      " cebra_10_b        umap  -0.5323    0.0 -0.6784 -0.3861   True\n",
      " cebra_10_t  pivae_10_w  -0.0241 0.9988 -0.1703   0.122  False\n",
      " cebra_10_t pivae_10_wo  -0.2401 0.0001 -0.3862  -0.094   True\n",
      " cebra_10_t        tsne  -0.0921 0.4808 -0.2383   0.054  False\n",
      " cebra_10_t        umap  -0.3603    0.0 -0.5064 -0.2141   True\n",
      " pivae_10_w pivae_10_wo   -0.216 0.0005 -0.3621 -0.0698   True\n",
      " pivae_10_w        tsne   -0.068 0.7953 -0.2142  0.0781  False\n",
      " pivae_10_w        umap  -0.3361    0.0 -0.4823   -0.19   True\n",
      "pivae_10_wo        tsne    0.148 0.0453  0.0018  0.2941   True\n",
      "pivae_10_wo        umap  -0.1202 0.1776 -0.2663   0.026  False\n",
      "       tsne        umap  -0.2681    0.0 -0.4143  -0.122   True\n",
      "--------------------------------------------------------------\n",
      "p-values: [4.59895124e-07 1.19172320e-01 3.21851381e-01 2.56916326e-01\n",
      " 9.87615917e-01 1.56137128e-04 1.08400031e-02 2.14410677e-03\n",
      " 1.95687910e-11 1.08622421e-05 0.00000000e+00 9.98789909e-01\n",
      " 7.74329488e-05 4.80794973e-01 2.26967911e-09 5.03580925e-04\n",
      " 7.95286134e-01 2.02236538e-08 4.52509652e-02 1.77597319e-01\n",
      " 7.76919683e-06]\n",
      "\n"
     ]
    },
    {
     "data": {
      "image/png": "[encoded data removed]",
      "text/plain": [
       "<Figure size 800x300 with 1 Axes>"
      ]
     },
     "metadata": {},
     "output_type": "display_data"
    }
   ],
   "source": [
    "data = load_data(methods)\n",
    "anova_sup = scipy.stats.f_oneway(*data.metric.values)\n",
    "data_explode = data.explode(\"metric\")\n",
    "data_explode.metric = data_explode.metric.astype(float)\n",
    "data_explode.sort_values(\"metric\")\n",
    "posthoc_sup = pairwise_tukeyhsd(\n",
    "    data_explode.metric.values, data_explode.method.values, alpha=0.05\n",
    ")\n",
    "\n",
    "print(\n",
    "    f\"\"\"\n",
    "# Subject Consistency\n",
    "\n",
    "Anova:  {anova_sup}\n",
    "\n",
    "Post Hoc test:\n",
    "\n",
    "{posthoc_sup}\n",
    "p-values: {posthoc_sup.pvalues}\n",
    "\"\"\"\n",
    ")\n",
    "\n",
    "fig, ax = plt.subplots(1, 1, figsize=(8, 3))\n",
    "sns.boxplot(data=data.explode(\"metric\"), x=\"method\", y=\"metric\", ax=ax)\n",
    "ax.set_xticklabels(ax.get_xticklabels(), rotation=45)\n",
    "plt.show()"
   ]
  },
  {
   "cell_type": "markdown",
   "id": "ae0cdc43",
   "metadata": {},
   "source": [
    "## Table S2: Decoding performance"
   ]
  },
  {
   "cell_type": "markdown",
   "id": "0e45499d",
   "metadata": {},
   "source": [
    "We compare the methods trained using label information (CEBRA-behavior and all considered variants of piVAE) and the self-/un-supervised methods trained without using labels (CEBRA-time, t-SNE, UMAP, autoLFADS, and the PCA baseline)."
   ]
  },
  {
   "cell_type": "code",
   "execution_count": 7,
   "id": "58dea77b",
   "metadata": {
    "execution": {
     "iopub.execute_input": "2022-12-14T23:54:16.975156Z",
     "iopub.status.busy": "2022-12-14T23:54:16.974977Z",
     "iopub.status.idle": "2022-12-14T23:54:16.978575Z",
     "shell.execute_reply": "2022-12-14T23:54:16.977914Z"
    },
    "lines_to_next_cell": 2
   },
   "outputs": [],
   "source": [
    "supervised_methods = [\n",
    "    \"cebra_10_b\",\n",
    "    \"pivae_1_w\",\n",
    "    \"pivae_10_w\",\n",
    "    \"pivae_1_wo\",\n",
    "    \"pivae_10_wo\",\n",
    "]\n",
    "supervised_methods_decoding = [\n",
    "    \"cebra_10_b\",\n",
    "    \"pivae_1_mcmc\",\n",
    "    \"pivae_10_mcmc\",\n",
    "    \"pivae_1_wo\",\n",
    "    \"pivae_10_wo\",\n",
    "]\n",
    "unsupervised_methods = [\"cebra_10_t\", \"tsne\", \"umap\", \"autolfads\", \"pca\"]"
   ]
  },
  {
   "cell_type": "code",
   "execution_count": 8,
   "id": "6bdddc24",
   "metadata": {
    "execution": {
     "iopub.execute_input": "2022-12-14T23:54:16.983101Z",
     "iopub.status.busy": "2022-12-14T23:54:16.982916Z",
     "iopub.status.idle": "2022-12-14T23:54:16.990832Z",
     "shell.execute_reply": "2022-12-14T23:54:16.990117Z"
    }
   },
   "outputs": [],
   "source": [
    "# for decoding\n",
    "# avg over seeds\n",
    "#    (# animals x # of CV runs) --> 4 x 3 --> 12\n",
    "\n",
    "\n",
    "def decoding(key, animal=0):\n",
    "    data = pd.read_hdf(DATA, key=key)\n",
    "    metric = \"test_position_error\"\n",
    "    if metric + \"_svm\" in data.columns:\n",
    "        metric = metric + \"_svm\"\n",
    "    data = data.pivot_table(\n",
    "        metric, index=\"animal\", columns=\"seed\", aggfunc=lambda v: np.mean(np.array(v))\n",
    "    ).agg(np.array, axis=1)\n",
    "\n",
    "    if animal is None:\n",
    "        return data.agg(np.concatenate, axis=0)\n",
    "    else:\n",
    "        return data.loc[animal]\n",
    "\n",
    "\n",
    "def load_data(keys, animal):\n",
    "    return pd.DataFrame(\n",
    "        [{\"method\": key, \"metric\": decoding(key, animal)} for key in keys]\n",
    "    ).copy()\n",
    "\n",
    "\n",
    "def report_supervised(animal):\n",
    "    data = load_data(supervised_methods_decoding, animal)\n",
    "    anova = anova_with_report(data.metric.values)\n",
    "    data_explode = data.explode(\"metric\")\n",
    "    data_explode.metric = data_explode.metric.astype(float)\n",
    "    posthoc_sup = pairwise_tukeyhsd(\n",
    "        data_explode.metric.values, data_explode.method.values, alpha=0.05\n",
    "    )\n",
    "    return anova, posthoc_sup, data\n",
    "\n",
    "\n",
    "def report_unsupervised(animal):\n",
    "    data = load_data(unsupervised_methods, animal)\n",
    "    data.loc[(data[\"method\"] == \"pca\"), \"metric\"] = data[(data[\"method\"] == \"pca\")][\n",
    "        \"metric\"\n",
    "    ].apply(lambda v: v.repeat(10))\n",
    "    data_explode = data.explode(\"metric\")\n",
    "    data_explode.metric = data_explode.metric.astype(float)\n",
    "    anova = anova_with_report(data.metric.values)\n",
    "    posthoc = pairwise_tukeyhsd(\n",
    "        data_explode.metric.values, data_explode.method.values, alpha=0.05\n",
    "    )\n",
    "    return anova, posthoc_sup, data\n",
    "\n",
    "\n",
    "def plot_overview(sup_data, unsup_data):\n",
    "    fig, axes = plt.subplots(1, 2, figsize=(8, 3))\n",
    "    sns.boxplot(data=sup_data.explode(\"metric\"), x=\"method\", y=\"metric\", ax=axes[0])\n",
    "    sns.boxplot(data=unsup_data.explode(\"metric\"), x=\"method\", y=\"metric\", ax=axes[1])\n",
    "    axes[0].set_title(\"Supervised\")\n",
    "    axes[1].set_title(\"Unsupervised\")\n",
    "    for ax in axes:\n",
    "        ax.set_xticklabels(ax.get_xticklabels(), rotation=45)\n",
    "    plt.tight_layout()\n",
    "    plt.show()"
   ]
  },
  {
   "cell_type": "markdown",
   "id": "eae98c20",
   "metadata": {},
   "source": [
    "### Rat 1 (Achilles), Anova and post-hoc test on supervised methods"
   ]
  },
  {
   "cell_type": "code",
   "execution_count": 9,
   "id": "72342197",
   "metadata": {
    "execution": {
     "iopub.execute_input": "2022-12-14T23:54:16.993000Z",
     "iopub.status.busy": "2022-12-14T23:54:16.992842Z",
     "iopub.status.idle": "2022-12-14T23:54:17.340811Z",
     "shell.execute_reply": "2022-12-14T23:54:17.339948Z"
    }
   },
   "outputs": [
    {
     "name": "stdout",
     "output_type": "stream",
     "text": [
      "F_onewayResult(statistic=130.8489167329169, pvalue=3.584864370350153e-24)\n",
      "F = 130.84891673291744, p = 3.584864370349843e-24\n",
      "\n",
      "    statistic = 130.84891673291744\n",
      "    pvalue = 3.584864370349843e-24\n",
      "    df = (4.0, 45.0)\n",
      "    df_num = 4.0\n",
      "    df_denom = 45.0\n",
      "    nobs_t = 50.0\n",
      "    n_groups = 5\n",
      "    means = [0.05458863 0.12718886 0.11124251 0.35219591 0.16122803]\n",
      "    nobs = [10. 10. 10. 10. 10.]\n",
      "    vars_ = [4.48646101e-06 7.35450406e-05 8.94713254e-04 8.68539373e-04\n",
      "         3.07831069e-03]\n",
      "    use_var = equal\n",
      "    welch_correction = True\n",
      "    tuple = (130.84891673291744, 3.584864370349843e-24)\n",
      "\n",
      "\n",
      "\n",
      "       Multiple Comparison of Means - Tukey HSD, FWER=0.05       \n",
      "=================================================================\n",
      "    group1        group2    meandiff p-adj   lower  upper  reject\n",
      "-----------------------------------------------------------------\n",
      "   cebra_10_b pivae_10_mcmc   0.0567 0.0018  0.0168 0.0965   True\n",
      "   cebra_10_b   pivae_10_wo   0.1066    0.0  0.0668 0.1465   True\n",
      "   cebra_10_b  pivae_1_mcmc   0.0726    0.0  0.0327 0.1125   True\n",
      "   cebra_10_b    pivae_1_wo   0.2976    0.0  0.2577 0.3375   True\n",
      "pivae_10_mcmc   pivae_10_wo     0.05 0.0075  0.0101 0.0898   True\n",
      "pivae_10_mcmc  pivae_1_mcmc   0.0159 0.7863 -0.0239 0.0558  False\n",
      "pivae_10_mcmc    pivae_1_wo    0.241    0.0  0.2011 0.2808   True\n",
      "  pivae_10_wo  pivae_1_mcmc   -0.034 0.1269 -0.0739 0.0058  False\n",
      "  pivae_10_wo    pivae_1_wo    0.191    0.0  0.1511 0.2308   True\n",
      " pivae_1_mcmc    pivae_1_wo    0.225    0.0  0.1851 0.2649   True\n",
      "-----------------------------------------------------------------\n",
      "p-values:  0.001847501003341745, 1.299383645125829e-08, 4.869827063835874e-05, 0.0, 0.007474720241527288, 0.786269324603824, 0.0, 0.12689021533421352, 0.0, 0.0\n"
     ]
    }
   ],
   "source": [
    "anova, posthoc, sup_data = report_supervised(0)\n",
    "\n",
    "print(anova)\n",
    "print(\"\\n\\n\")\n",
    "print(posthoc)\n",
    "print(\"p-values: \", \", \".join(map(str, posthoc.pvalues)))"
   ]
  },
  {
   "cell_type": "markdown",
   "id": "0afbd1aa",
   "metadata": {},
   "source": [
    "### Rat 1 (Achilles), Anova and post-hoc test on unsupervised methods"
   ]
  },
  {
   "cell_type": "code",
   "execution_count": 10,
   "id": "1740d01f",
   "metadata": {
    "execution": {
     "iopub.execute_input": "2022-12-14T23:54:17.345822Z",
     "iopub.status.busy": "2022-12-14T23:54:17.345658Z",
     "iopub.status.idle": "2022-12-14T23:54:17.660634Z",
     "shell.execute_reply": "2022-12-14T23:54:17.659718Z"
    }
   },
   "outputs": [
    {
     "name": "stdout",
     "output_type": "stream",
     "text": [
      "F_onewayResult(statistic=1983.0064715111755, pvalue=5.950793013875487e-50)\n",
      "F = 1983.006471511298, p = 5.950793013867255e-50\n",
      "\n",
      "    statistic = 1983.006471511298\n",
      "    pvalue = 5.950793013867255e-50\n",
      "    df = (4.0, 45.0)\n",
      "    df_num = 4.0\n",
      "    df_denom = 45.0\n",
      "    nobs_t = 50.0\n",
      "    n_groups = 5\n",
      "    means = [0.04710335 0.06233259 0.05585373 0.06659485 0.22385401]\n",
      "    nobs = [10. 10. 10. 10. 10.]\n",
      "    vars_ = [1.49161239e-06 4.27979600e-07 4.56283808e-07 1.37750285e-04\n",
      "         0.00000000e+00]\n",
      "    use_var = equal\n",
      "    welch_correction = True\n",
      "    tuple = (1983.006471511298, 5.950793013867255e-50)\n",
      "\n",
      "\n",
      "\n",
      "     Multiple Comparison of Means - Tukey HSD, FWER=0.05      \n",
      "==============================================================\n",
      "   group1      group2   meandiff p-adj   lower   upper  reject\n",
      "--------------------------------------------------------------\n",
      "  autolfads  cebra_10_b    0.301    0.0  0.1549  0.4472   True\n",
      "  autolfads  cebra_10_t    0.129 0.1192 -0.0171  0.2752  False\n",
      "  autolfads  pivae_10_w   0.1049 0.3219 -0.0412  0.2511  False\n",
      "  autolfads pivae_10_wo  -0.1111 0.2569 -0.2572  0.0351  False\n",
      "  autolfads        tsne   0.0369 0.9876 -0.1092   0.183  False\n",
      "  autolfads        umap  -0.2312 0.0002 -0.3774 -0.0851   True\n",
      " cebra_10_b  cebra_10_t   -0.172 0.0108 -0.3181 -0.0258   True\n",
      " cebra_10_b  pivae_10_w  -0.1961 0.0021 -0.3423   -0.05   True\n",
      " cebra_10_b pivae_10_wo  -0.4121    0.0 -0.5582  -0.266   True\n",
      " cebra_10_b        tsne  -0.2641    0.0 -0.4103  -0.118   True\n",
      " cebra_10_b        umap  -0.5323    0.0 -0.6784 -0.3861   True\n",
      " cebra_10_t  pivae_10_w  -0.0241 0.9988 -0.1703   0.122  False\n",
      " cebra_10_t pivae_10_wo  -0.2401 0.0001 -0.3862  -0.094   True\n",
      " cebra_10_t        tsne  -0.0921 0.4808 -0.2383   0.054  False\n",
      " cebra_10_t        umap  -0.3603    0.0 -0.5064 -0.2141   True\n",
      " pivae_10_w pivae_10_wo   -0.216 0.0005 -0.3621 -0.0698   True\n",
      " pivae_10_w        tsne   -0.068 0.7953 -0.2142  0.0781  False\n",
      " pivae_10_w        umap  -0.3361    0.0 -0.4823   -0.19   True\n",
      "pivae_10_wo        tsne    0.148 0.0453  0.0018  0.2941   True\n",
      "pivae_10_wo        umap  -0.1202 0.1776 -0.2663   0.026  False\n",
      "       tsne        umap  -0.2681    0.0 -0.4143  -0.122   True\n",
      "--------------------------------------------------------------\n",
      "p-values:  4.5989512431621193e-07, 0.11917232008530076, 0.3218513805429045, 0.25691632555266564, 0.9876159168285589, 0.00015613712753770326, 0.010840003137932097, 0.0021441067703942274, 1.956879103204301e-11, 1.0862242120657228e-05, 0.0, 0.998789909385646, 7.743294878004292e-05, 0.48079497324498466, 2.2696791113219206e-09, 0.0005035809251053847, 0.7952861342308782, 2.0223653751649806e-08, 0.045250965160721246, 0.17759731861515216, 7.769196829099378e-06\n"
     ]
    }
   ],
   "source": [
    "anova, posthoc, unsup_data = report_unsupervised(0)\n",
    "\n",
    "print(anova)\n",
    "print(\"\\n\\n\")\n",
    "print(posthoc)\n",
    "print(\"p-values: \", \", \".join(map(str, posthoc.pvalues)))"
   ]
  },
  {
   "cell_type": "markdown",
   "id": "e1b567fb",
   "metadata": {},
   "source": [
    "### Rat 1 (Achilles), overview plot\n",
    "\n",
    "(Not shown in the paper)"
   ]
  },
  {
   "cell_type": "code",
   "execution_count": 11,
   "id": "538d1c88",
   "metadata": {
    "execution": {
     "iopub.execute_input": "2022-12-14T23:54:17.665517Z",
     "iopub.status.busy": "2022-12-14T23:54:17.665332Z",
     "iopub.status.idle": "2022-12-14T23:54:17.880520Z",
     "shell.execute_reply": "2022-12-14T23:54:17.879714Z"
    }
   },
   "outputs": [
    {
     "data": {
      "image/png": "[encoded data removed]",
      "text/plain": [
       "<Figure size 800x300 with 2 Axes>"
      ]
     },
     "metadata": {},
     "output_type": "display_data"
    }
   ],
   "source": [
    "plot_overview(sup_data, unsup_data)"
   ]
  },
  {
   "cell_type": "markdown",
   "id": "1f8bfe94",
   "metadata": {},
   "source": [
    "### All Rats, Anova and post-hoc test on supervised methods"
   ]
  },
  {
   "cell_type": "code",
   "execution_count": 12,
   "id": "25a719ce",
   "metadata": {
    "execution": {
     "iopub.execute_input": "2022-12-14T23:54:17.885982Z",
     "iopub.status.busy": "2022-12-14T23:54:17.885812Z",
     "iopub.status.idle": "2022-12-14T23:54:18.256568Z",
     "shell.execute_reply": "2022-12-14T23:54:18.255665Z"
    }
   },
   "outputs": [
    {
     "name": "stdout",
     "output_type": "stream",
     "text": [
      "F_onewayResult(statistic=55.17031672006308, pvalue=4.694077971736457e-31)\n",
      "F = 55.170316720063056, p = 4.694077971736618e-31\n",
      "\n",
      "    statistic = 55.170316720063056\n",
      "    pvalue = 4.694077971736618e-31\n",
      "    df = (4.0, 195.0)\n",
      "    df_num = 4.0\n",
      "    df_denom = 195.0\n",
      "    nobs_t = 200.0\n",
      "    n_groups = 5\n",
      "    means = [0.13529156 0.30867451 0.14618708 0.40349386 0.2895263 ]\n",
      "    nobs = [40. 40. 40. 40. 40.]\n",
      "    vars_ = [0.00385949 0.01914409 0.00143575 0.00413979 0.01880184]\n",
      "    use_var = equal\n",
      "    welch_correction = True\n",
      "    tuple = (55.170316720063056, 4.694077971736618e-31)\n",
      "\n",
      "\n",
      "\n",
      "       Multiple Comparison of Means - Tukey HSD, FWER=0.05       \n",
      "=================================================================\n",
      "    group1        group2    meandiff p-adj   lower  upper  reject\n",
      "-----------------------------------------------------------------\n",
      "   cebra_10_b pivae_10_mcmc   0.0109 0.9872  -0.049 0.0708  False\n",
      "   cebra_10_b   pivae_10_wo   0.1542    0.0  0.0943 0.2142   True\n",
      "   cebra_10_b  pivae_1_mcmc   0.1734    0.0  0.1134 0.2333   True\n",
      "   cebra_10_b    pivae_1_wo   0.2682    0.0  0.2083 0.3281   True\n",
      "pivae_10_mcmc   pivae_10_wo   0.1433    0.0  0.0834 0.2033   True\n",
      "pivae_10_mcmc  pivae_1_mcmc   0.1625    0.0  0.1026 0.2224   True\n",
      "pivae_10_mcmc    pivae_1_wo   0.2573    0.0  0.1974 0.3172   True\n",
      "  pivae_10_wo  pivae_1_mcmc   0.0191 0.9041 -0.0408 0.0791  False\n",
      "  pivae_10_wo    pivae_1_wo    0.114    0.0   0.054 0.1739   True\n",
      " pivae_1_mcmc    pivae_1_wo   0.0948 0.0002  0.0349 0.1548   True\n",
      "-----------------------------------------------------------------\n",
      "p-values:  0.9872326031852133, 2.460746051369256e-10, 1.247890679678676e-12, 0.0, 4.109283691100529e-09, 2.6964652732885952e-11, 0.0, 0.9041012894236118, 4.1859577109004675e-06, 0.00020598765774881844\n"
     ]
    }
   ],
   "source": [
    "anova, posthoc, sup_data = report_supervised(None)\n",
    "\n",
    "print(anova)\n",
    "print(\"\\n\\n\")\n",
    "print(posthoc)\n",
    "print(\"p-values: \", \", \".join(map(str, posthoc.pvalues)))"
   ]
  },
  {
   "cell_type": "markdown",
   "id": "5e2559cb",
   "metadata": {},
   "source": [
    "### All Rats, Anova and post-hoc test on unsupervised methods"
   ]
  },
  {
   "cell_type": "code",
   "execution_count": 13,
   "id": "b9371b25",
   "metadata": {
    "execution": {
     "iopub.execute_input": "2022-12-14T23:54:18.261534Z",
     "iopub.status.busy": "2022-12-14T23:54:18.261363Z",
     "iopub.status.idle": "2022-12-14T23:54:18.714668Z",
     "shell.execute_reply": "2022-12-14T23:54:18.714053Z"
    }
   },
   "outputs": [
    {
     "name": "stdout",
     "output_type": "stream",
     "text": [
      "F_onewayResult(statistic=14.746848806860859, pvalue=1.523730417925221e-10)\n",
      "F = 14.746848806860855, p = 1.523730417925221e-10\n",
      "\n",
      "    statistic = 14.746848806860855\n",
      "    pvalue = 1.523730417925221e-10\n",
      "    df = (4.0, 195.0)\n",
      "    df_num = 4.0\n",
      "    df_denom = 195.0\n",
      "    nobs_t = 200.0\n",
      "    n_groups = 5\n",
      "    means = [0.11689811 0.1959747  0.18944162 0.24828243 0.30024827]\n",
      "    nobs = [40. 40. 40. 40. 40.]\n",
      "    vars_ = [0.00354796 0.01188905 0.01183249 0.02293898 0.01386443]\n",
      "    use_var = equal\n",
      "    welch_correction = True\n",
      "    tuple = (14.746848806860855, 1.523730417925221e-10)\n",
      "\n",
      "\n",
      "\n",
      "     Multiple Comparison of Means - Tukey HSD, FWER=0.05      \n",
      "==============================================================\n",
      "   group1      group2   meandiff p-adj   lower   upper  reject\n",
      "--------------------------------------------------------------\n",
      "  autolfads  cebra_10_b    0.301    0.0  0.1549  0.4472   True\n",
      "  autolfads  cebra_10_t    0.129 0.1192 -0.0171  0.2752  False\n",
      "  autolfads  pivae_10_w   0.1049 0.3219 -0.0412  0.2511  False\n",
      "  autolfads pivae_10_wo  -0.1111 0.2569 -0.2572  0.0351  False\n",
      "  autolfads        tsne   0.0369 0.9876 -0.1092   0.183  False\n",
      "  autolfads        umap  -0.2312 0.0002 -0.3774 -0.0851   True\n",
      " cebra_10_b  cebra_10_t   -0.172 0.0108 -0.3181 -0.0258   True\n",
      " cebra_10_b  pivae_10_w  -0.1961 0.0021 -0.3423   -0.05   True\n",
      " cebra_10_b pivae_10_wo  -0.4121    0.0 -0.5582  -0.266   True\n",
      " cebra_10_b        tsne  -0.2641    0.0 -0.4103  -0.118   True\n",
      " cebra_10_b        umap  -0.5323    0.0 -0.6784 -0.3861   True\n",
      " cebra_10_t  pivae_10_w  -0.0241 0.9988 -0.1703   0.122  False\n",
      " cebra_10_t pivae_10_wo  -0.2401 0.0001 -0.3862  -0.094   True\n",
      " cebra_10_t        tsne  -0.0921 0.4808 -0.2383   0.054  False\n",
      " cebra_10_t        umap  -0.3603    0.0 -0.5064 -0.2141   True\n",
      " pivae_10_w pivae_10_wo   -0.216 0.0005 -0.3621 -0.0698   True\n",
      " pivae_10_w        tsne   -0.068 0.7953 -0.2142  0.0781  False\n",
      " pivae_10_w        umap  -0.3361    0.0 -0.4823   -0.19   True\n",
      "pivae_10_wo        tsne    0.148 0.0453  0.0018  0.2941   True\n",
      "pivae_10_wo        umap  -0.1202 0.1776 -0.2663   0.026  False\n",
      "       tsne        umap  -0.2681    0.0 -0.4143  -0.122   True\n",
      "--------------------------------------------------------------\n",
      "p-values:  4.5989512431621193e-07, 0.11917232008530076, 0.3218513805429045, 0.25691632555266564, 0.9876159168285589, 0.00015613712753770326, 0.010840003137932097, 0.0021441067703942274, 1.956879103204301e-11, 1.0862242120657228e-05, 0.0, 0.998789909385646, 7.743294878004292e-05, 0.48079497324498466, 2.2696791113219206e-09, 0.0005035809251053847, 0.7952861342308782, 2.0223653751649806e-08, 0.045250965160721246, 0.17759731861515216, 7.769196829099378e-06\n"
     ]
    }
   ],
   "source": [
    "anova, posthoc, unsup_data = report_unsupervised(None)\n",
    "\n",
    "print(anova)\n",
    "print(\"\\n\\n\")\n",
    "print(posthoc)\n",
    "print(\"p-values: \", \", \".join(map(str, posthoc.pvalues)))"
   ]
  },
  {
   "cell_type": "code",
   "execution_count": 14,
   "id": "86e349f8",
   "metadata": {
    "execution": {
     "iopub.execute_input": "2022-12-14T23:54:18.717313Z",
     "iopub.status.busy": "2022-12-14T23:54:18.717127Z",
     "iopub.status.idle": "2022-12-14T23:54:18.914611Z",
     "shell.execute_reply": "2022-12-14T23:54:18.913843Z"
    }
   },
   "outputs": [
    {
     "data": {
      "image/png": "[encoded data removed]",
      "text/plain": [
       "<Figure size 800x300 with 2 Axes>"
      ]
     },
     "metadata": {},
     "output_type": "display_data"
    }
   ],
   "source": [
    "plot_overview(sup_data, unsup_data)"
   ]
  },
  {
   "cell_type": "markdown",
   "id": "eb90c5b0",
   "metadata": {},
   "source": [
    "### Overview of the decoding performance"
   ]
  },
  {
   "cell_type": "code",
   "execution_count": 15,
   "id": "1fa67c79",
   "metadata": {
    "execution": {
     "iopub.execute_input": "2022-12-14T23:54:18.917472Z",
     "iopub.status.busy": "2022-12-14T23:54:18.917286Z",
     "iopub.status.idle": "2022-12-14T23:54:19.156726Z",
     "shell.execute_reply": "2022-12-14T23:54:19.155802Z"
    }
   },
   "outputs": [
    {
     "name": "stdout",
     "output_type": "stream",
     "text": [
      "Rat 0\n",
      "\tcebra_10_b\t0.05459 +/- 0.00201\n",
      "\tpivae_1_mcmc\t0.12719 +/- 0.00814\n",
      "\tpivae_10_mcmc\t0.11124 +/- 0.02838\n",
      "\tpivae_1_wo\t0.35220 +/- 0.02796\n",
      "\tpivae_10_wo\t0.16123 +/- 0.05264\n"
     ]
    }
   ],
   "source": [
    "rat = 0\n",
    "print(f\"Rat {rat}\")\n",
    "for key in supervised_methods_decoding:\n",
    "    print(\n",
    "        f\"\\t{key}\\t{decoding(key, animal=rat).mean():.5f} +/- {decoding(key, animal=rat).std():.5f}\"\n",
    "    )"
   ]
  }
 ],
 "metadata": {
  "kernelspec": {
   "display_name": "Python 3 (ipykernel)",
   "language": "python",
   "name": "python3"
  },
  "language_info": {
   "codemirror_mode": {
    "name": "ipython",
    "version": 3
   },
   "file_extension": ".py",
   "mimetype": "text/x-python",
   "name": "python",
   "nbconvert_exporter": "python",
   "pygments_lexer": "ipython3",
   "version": "3.10.8"
  }
 },
 "nbformat": 4,
 "nbformat_minor": 5
}
