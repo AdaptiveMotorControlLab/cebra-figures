{
 "cells": [
  {
   "cell_type": "markdown",
   "id": "b46fe862",
   "metadata": {},
   "source": [
    "# Extended Data Figure 6: Persistence across dimensions"
   ]
  },
  {
   "cell_type": "markdown",
   "id": "6e12c690",
   "metadata": {},
   "source": [
    "#### import plot and data loading dependencies"
   ]
  },
  {
   "cell_type": "code",
   "execution_count": 49,
   "id": "c9a5ca62",
   "metadata": {
    "execution": {
     "iopub.execute_input": "2022-09-02T10:00:08.458192Z",
     "iopub.status.busy": "2022-09-02T10:00:08.457275Z",
     "iopub.status.idle": "2022-09-02T10:00:10.744672Z",
     "shell.execute_reply": "2022-09-02T10:00:10.743802Z"
    }
   },
   "outputs": [],
   "source": [
    "import numpy as np\n",
    "import pandas as pd\n",
    "import matplotlib.pyplot as plt\n",
    "from matplotlib.lines import Line2D\n",
    "from persim import plot_diagrams"
   ]
  },
  {
   "cell_type": "code",
   "execution_count": 232,
   "id": "35d5e21c",
   "metadata": {
    "execution": {
     "iopub.execute_input": "2022-09-02T10:00:10.750849Z",
     "iopub.status.busy": "2022-09-02T10:00:10.750234Z",
     "iopub.status.idle": "2022-09-02T10:00:10.871110Z",
     "shell.execute_reply": "2022-09-02T10:00:10.870313Z"
    }
   },
   "outputs": [],
   "source": [
    "data = pd.read_hdf(\"../data/EDFigure6.h5\")"
   ]
  },
  {
   "cell_type": "markdown",
   "id": "2f532355",
   "metadata": {},
   "source": [
    "### CEBRA rat dataset toplogy analysis\n",
    "\n",
    "For each dimension of CEBRA-Behavior embedding from the rat hippocampus dataset, we obtained Betti number by applying persistent co-homology. The colored dots are lifespans observed in hypothesis based CEBRA-Behavior. To rule out noisy lifespans, we set a threshold (colored diagonal lines) as maximum lifespan based on 500 seeds of shuffled-CEBRA embedding for each dimension.\n",
    "We obtained circular coordinate from the first cocycle from persistent co-homology analysis and map it to position. "
   ]
  },
  {
   "cell_type": "code",
   "execution_count": 233,
   "id": "666b6a3a",
   "metadata": {},
   "outputs": [],
   "source": [
    "def plot_barcode(topology_dgms, shuffled_max, ax, label_vis):\n",
    "    plot_diagrams(topology_dgms, ax=ax, legend = False, )\n",
    "    ax.plot(\n",
    "        [\n",
    "            -0.5,\n",
    "            2,\n",
    "        ],\n",
    "        [-0.5 + shuffled_max[0], 2 + shuffled_max[0]],\n",
    "        color=\"C0\",\n",
    "        linewidth=3,\n",
    "        alpha=0.5,\n",
    "    )\n",
    "    ax.plot(\n",
    "        [\n",
    "            -0.5,\n",
    "            2,\n",
    "        ],\n",
    "        [-0.5 + shuffled_max[1], 2 + shuffled_max[1]],\n",
    "        color=\"orange\",\n",
    "        linewidth=3,\n",
    "        alpha=0.5,\n",
    "    )\n",
    "    ax.plot(\n",
    "        [-0.50, 2],\n",
    "        [-0.5 + shuffled_max[2], 2 + shuffled_max[2]],\n",
    "        color=\"green\",\n",
    "        linewidth=3,\n",
    "        alpha=0.5,\n",
    "    )\n",
    "    ax.set_xlabel('Birth', fontsize=15)\n",
    "    ax.set_xticks([0,1,2])\n",
    "    ax.set_xticklabels([0,1,2])\n",
    "    ax.tick_params(labelsize=13)\n",
    "    if label_vis:\n",
    "        ax.set_ylabel('Death', fontsize=15)\n",
    "    else:\n",
    "        ax.set_ylabel('')\n",
    "    \n",
    "def plot_polar(radial_angle, label, ax, first, last):\n",
    "    r = np.ones(1000)\n",
    "    r_ind = label[:,1]==1\n",
    "    l_ind = label[:,2]==1\n",
    "    right=ax.scatter(radial_angle[r_ind], r[r_ind], s=5, c = label[r_ind,0], cmap = 'cool')\n",
    "    left=ax.scatter(radial_angle[l_ind], r[l_ind], s=5, c = label[l_ind,0], cmap = 'viridis')\n",
    "    ax.set_yticklabels([])\n",
    "    ax.set_xticks(np.pi/180. * np.linspace(0,  360, 8, endpoint=False))\n",
    "    if first:\n",
    "        ax.set_xticklabels(['','45$^\\circ$', '90$^\\circ$', '135$^\\circ$', '180$^\\circ$', '225$^\\circ$', '270$^\\circ$','315$^\\circ$'])\n",
    "    if last:\n",
    "        ax.set_xticklabels(['0$^\\circ$','45$^\\circ$', '90$^\\circ$', '135$^\\circ$', '', '225$^\\circ$', '270$^\\circ$','315$^\\circ$'])\n",
    "    if not first and not last:\n",
    "        ax.set_xticklabels(['','45$^\\circ$', '90$^\\circ$', '135$^\\circ$', '', '225$^\\circ$', '315$^\\circ$', ''])\n",
    "    ax.tick_params(labelsize=11)\n",
    "    return right, left\n",
    "    \n",
    "def plot_position_angle(radial_angle, position, ax, yax_label=False):\n",
    "    r_ind = position[:,1]==1\n",
    "    l_ind = position[:,2]==1\n",
    "    def _to_deg(rad):\n",
    "        return rad *180/np.pi\n",
    "    ax.scatter(_to_deg(radial_angle[r_ind]), position[r_ind,0]*100, s=1, c = 'black')\n",
    "    ax.scatter(_to_deg(radial_angle[l_ind]), position[l_ind,0]*100, s=1, c= 'gray')\n",
    "\n",
    "    ax.set_xlabel('Radial angle [$^\\circ$]', fontsize=15)\n",
    "    if yax_label:\n",
    "        ax.set_ylabel('Position [cm]', fontsize=15)\n",
    "    \n",
    "    ax.spines['top'].set_visible(False)\n",
    "    ax.spines['right'].set_visible(False)\n",
    "    ax.tick_params(labelsize=13)\n",
    "    ax.set_xticks([0,90,180,270,360])\n",
    "    ax.set_xticklabels([0,90,180,270,360])\n",
    "\n",
    "def display_labels_flag(i):\n",
    "    if i ==0:\n",
    "        first = True\n",
    "        last = False\n",
    "        label_vis = True\n",
    "    elif i == 4:\n",
    "        first = False\n",
    "        last = True\n",
    "        label_vis = False\n",
    "    else:\n",
    "        first = False\n",
    "        last = False\n",
    "        label_vis = False\n",
    "    return first, last, label_vis"
   ]
  },
  {
   "cell_type": "code",
   "execution_count": 234,
   "id": "b9acf54a",
   "metadata": {
    "execution": {
     "iopub.execute_input": "2022-09-02T10:00:10.876289Z",
     "iopub.status.busy": "2022-09-02T10:00:10.875486Z",
     "iopub.status.idle": "2022-09-02T10:00:13.082071Z",
     "shell.execute_reply": "2022-09-02T10:00:13.080816Z"
    }
   },
   "outputs": [
    {
     "ename": "KeyError",
     "evalue": "'circular_coord_analysis'",
     "output_type": "error",
     "traceback": [
      "\u001b[0;31m---------------------------------------------------------------------------\u001b[0m",
      "\u001b[0;31mKeyError\u001b[0m                                  Traceback (most recent call last)",
      "File \u001b[0;32m/usr/local/lib/python3.8/dist-packages/pandas/core/indexes/base.py:3361\u001b[0m, in \u001b[0;36mIndex.get_loc\u001b[0;34m(self, key, method, tolerance)\u001b[0m\n\u001b[1;32m   3360\u001b[0m \u001b[38;5;28;01mtry\u001b[39;00m:\n\u001b[0;32m-> 3361\u001b[0m     \u001b[38;5;28;01mreturn\u001b[39;00m \u001b[38;5;28;43mself\u001b[39;49m\u001b[38;5;241;43m.\u001b[39;49m\u001b[43m_engine\u001b[49m\u001b[38;5;241;43m.\u001b[39;49m\u001b[43mget_loc\u001b[49m\u001b[43m(\u001b[49m\u001b[43mcasted_key\u001b[49m\u001b[43m)\u001b[49m\n\u001b[1;32m   3362\u001b[0m \u001b[38;5;28;01mexcept\u001b[39;00m \u001b[38;5;167;01mKeyError\u001b[39;00m \u001b[38;5;28;01mas\u001b[39;00m err:\n",
      "File \u001b[0;32m/usr/local/lib/python3.8/dist-packages/pandas/_libs/index.pyx:76\u001b[0m, in \u001b[0;36mpandas._libs.index.IndexEngine.get_loc\u001b[0;34m()\u001b[0m\n",
      "File \u001b[0;32m/usr/local/lib/python3.8/dist-packages/pandas/_libs/index.pyx:108\u001b[0m, in \u001b[0;36mpandas._libs.index.IndexEngine.get_loc\u001b[0;34m()\u001b[0m\n",
      "File \u001b[0;32mpandas/_libs/hashtable_class_helper.pxi:5198\u001b[0m, in \u001b[0;36mpandas._libs.hashtable.PyObjectHashTable.get_item\u001b[0;34m()\u001b[0m\n",
      "File \u001b[0;32mpandas/_libs/hashtable_class_helper.pxi:5206\u001b[0m, in \u001b[0;36mpandas._libs.hashtable.PyObjectHashTable.get_item\u001b[0;34m()\u001b[0m\n",
      "\u001b[0;31mKeyError\u001b[0m: 'circular_coord_analysis'",
      "\nThe above exception was the direct cause of the following exception:\n",
      "\u001b[0;31mKeyError\u001b[0m                                  Traceback (most recent call last)",
      "Input \u001b[0;32mIn [234]\u001b[0m, in \u001b[0;36m<cell line: 3>\u001b[0;34m()\u001b[0m\n\u001b[1;32m      1\u001b[0m behavior_topology \u001b[38;5;241m=\u001b[39m data[\u001b[38;5;124m\"\u001b[39m\u001b[38;5;124mbehavior\u001b[39m\u001b[38;5;124m\"\u001b[39m]\n\u001b[1;32m      2\u001b[0m max_dims_behavior \u001b[38;5;241m=\u001b[39m data[\u001b[38;5;124m\"\u001b[39m\u001b[38;5;124mshuffled-max\u001b[39m\u001b[38;5;124m\"\u001b[39m]\n\u001b[0;32m----> 3\u001b[0m circular_coord \u001b[38;5;241m=\u001b[39m \u001b[43mdata\u001b[49m\u001b[43m[\u001b[49m\u001b[38;5;124;43m'\u001b[39;49m\u001b[38;5;124;43mcircular_coord_analysis\u001b[39;49m\u001b[38;5;124;43m'\u001b[39;49m\u001b[43m]\u001b[49m\n\u001b[1;32m      4\u001b[0m dims \u001b[38;5;241m=\u001b[39m [\u001b[38;5;241m3\u001b[39m, \u001b[38;5;241m8\u001b[39m, \u001b[38;5;241m16\u001b[39m, \u001b[38;5;241m32\u001b[39m, \u001b[38;5;241m64\u001b[39m]\n\u001b[1;32m      5\u001b[0m fig\u001b[38;5;241m=\u001b[39mplt\u001b[38;5;241m.\u001b[39mfigure(figsize\u001b[38;5;241m=\u001b[39m(\u001b[38;5;241m15\u001b[39m, \u001b[38;5;241m10\u001b[39m), dpi\u001b[38;5;241m=\u001b[39m\u001b[38;5;241m300\u001b[39m)\n",
      "File \u001b[0;32m/usr/local/lib/python3.8/dist-packages/pandas/core/frame.py:3458\u001b[0m, in \u001b[0;36mDataFrame.__getitem__\u001b[0;34m(self, key)\u001b[0m\n\u001b[1;32m   3456\u001b[0m \u001b[38;5;28;01mif\u001b[39;00m \u001b[38;5;28mself\u001b[39m\u001b[38;5;241m.\u001b[39mcolumns\u001b[38;5;241m.\u001b[39mnlevels \u001b[38;5;241m>\u001b[39m \u001b[38;5;241m1\u001b[39m:\n\u001b[1;32m   3457\u001b[0m     \u001b[38;5;28;01mreturn\u001b[39;00m \u001b[38;5;28mself\u001b[39m\u001b[38;5;241m.\u001b[39m_getitem_multilevel(key)\n\u001b[0;32m-> 3458\u001b[0m indexer \u001b[38;5;241m=\u001b[39m \u001b[38;5;28;43mself\u001b[39;49m\u001b[38;5;241;43m.\u001b[39;49m\u001b[43mcolumns\u001b[49m\u001b[38;5;241;43m.\u001b[39;49m\u001b[43mget_loc\u001b[49m\u001b[43m(\u001b[49m\u001b[43mkey\u001b[49m\u001b[43m)\u001b[49m\n\u001b[1;32m   3459\u001b[0m \u001b[38;5;28;01mif\u001b[39;00m is_integer(indexer):\n\u001b[1;32m   3460\u001b[0m     indexer \u001b[38;5;241m=\u001b[39m [indexer]\n",
      "File \u001b[0;32m/usr/local/lib/python3.8/dist-packages/pandas/core/indexes/base.py:3363\u001b[0m, in \u001b[0;36mIndex.get_loc\u001b[0;34m(self, key, method, tolerance)\u001b[0m\n\u001b[1;32m   3361\u001b[0m         \u001b[38;5;28;01mreturn\u001b[39;00m \u001b[38;5;28mself\u001b[39m\u001b[38;5;241m.\u001b[39m_engine\u001b[38;5;241m.\u001b[39mget_loc(casted_key)\n\u001b[1;32m   3362\u001b[0m     \u001b[38;5;28;01mexcept\u001b[39;00m \u001b[38;5;167;01mKeyError\u001b[39;00m \u001b[38;5;28;01mas\u001b[39;00m err:\n\u001b[0;32m-> 3363\u001b[0m         \u001b[38;5;28;01mraise\u001b[39;00m \u001b[38;5;167;01mKeyError\u001b[39;00m(key) \u001b[38;5;28;01mfrom\u001b[39;00m \u001b[38;5;21;01merr\u001b[39;00m\n\u001b[1;32m   3365\u001b[0m \u001b[38;5;28;01mif\u001b[39;00m is_scalar(key) \u001b[38;5;129;01mand\u001b[39;00m isna(key) \u001b[38;5;129;01mand\u001b[39;00m \u001b[38;5;129;01mnot\u001b[39;00m \u001b[38;5;28mself\u001b[39m\u001b[38;5;241m.\u001b[39mhasnans:\n\u001b[1;32m   3366\u001b[0m     \u001b[38;5;28;01mraise\u001b[39;00m \u001b[38;5;167;01mKeyError\u001b[39;00m(key)\n",
      "\u001b[0;31mKeyError\u001b[0m: 'circular_coord_analysis'"
     ]
    }
   ],
   "source": [
    "behavior_topology = data[\"behavior\"]\n",
    "max_dims_behavior = data[\"shuffled-max\"]\n",
    "circular_coord = data['circular_coord_analysis']\n",
    "dims = [3, 8, 16, 32, 64]\n",
    "fig=plt.figure(figsize=(15, 10), dpi=300)\n",
    "subfigs = fig.subfigures(3, 1,)\n",
    "barcode_axs = subfigs[0].subplots(1,5, sharey=True)\n",
    "polar_axs = subfigs[1].subplots(1,5, sharey=True, subplot_kw={'projection': 'polar'})\n",
    "position_axs = subfigs[2].subplots(1,5, sharey=True)\n",
    "for i, d in enumerate(dims):\n",
    "\n",
    "    first, last, label_vis = display_labels_flag(i)\n",
    "    barcode_ax=barcode_axs[i]\n",
    "    barcode_ax.set_title(f\"Dimension {d}\", fontsize=20, y=1.2)\n",
    "    plot_barcode(behavior_topology[d]['dgms'], max_dims_behavior[d], barcode_ax, label_vis)\n",
    "    polar_ax = polar_axs[i]\n",
    "    right, left = plot_polar(circular_coord['circular_coord'][0][d], circular_coord['position'], polar_ax, first, last)\n",
    "    position_ax = position_axs[i]\n",
    "\n",
    "    plot_position_angle(circular_coord['circular_coord'][0][d], circular_coord['position'], position_ax, label_vis)\n",
    "\n",
    "barcode_legend = [Line2D([0],[0], ls='--', color = 'k'),\n",
    "                Line2D([0], [0], markerfacecolor='C0', marker = 'o', color = 'w', markersize=6),\n",
    "                Line2D([0], [0], markerfacecolor='C1', marker = 'o', color = 'w', markersize=6),\n",
    "                Line2D([0], [0], markerfacecolor='C2', marker = 'o', color = 'w', markersize=6)]\n",
    "\n",
    "position_legend = [Line2D([0], [0], markerfacecolor='black', marker = 'o', color = 'w', markersize=6),\n",
    "                Line2D([0], [0], markerfacecolor='gray', marker = 'o', color = 'w', markersize=6)]\n",
    "\n",
    "\n",
    "subfigs[0].legend(barcode_legend, ['$\\infty$','$H_0$', '$H_1$', '$H_2$'], frameon = False, bbox_to_anchor=[0.98,0.7], fontsize=15)\n",
    "cax_r = polar_axs[-1].inset_axes([1.2, 0.1, 0.05, 1])\n",
    "cax_l = polar_axs[-1].inset_axes([1.3, 0.1, 0.05, 1])\n",
    "r_bar=subfigs[1].colorbar(right, ax= polar_axs, cax = cax_r)\n",
    "l_bar=subfigs[1].colorbar(left, ax= polar_axs, cax = cax_l)\n",
    "r_bar.set_ticks([])\n",
    "l_bar.set_ticks([0, 1.5], fontsize=15)\n",
    "l_bar.set_label('position [cm]', rotation = 0, y=-0.1, fontsize=12)\n",
    "subfigs[2].legend(position_legend, ['right', 'left'], frameon = False, bbox_to_anchor=[0.98,0.4], fontsize=15)\n"
   ]
  },
  {
   "cell_type": "code",
   "execution_count": 241,
   "id": "c616d953",
   "metadata": {},
   "outputs": [
    {
     "ename": "TypeError",
     "evalue": "to_hdf() missing 1 required positional argument: 'key'",
     "output_type": "error",
     "traceback": [
      "\u001b[0;31m---------------------------------------------------------------------------\u001b[0m",
      "\u001b[0;31mTypeError\u001b[0m                                 Traceback (most recent call last)",
      "Input \u001b[0;32mIn [241]\u001b[0m, in \u001b[0;36m<cell line: 5>\u001b[0;34m()\u001b[0m\n\u001b[1;32m      3\u001b[0m dic[\u001b[38;5;124m'\u001b[39m\u001b[38;5;124mcircular_coord_analysis\u001b[39m\u001b[38;5;124m'\u001b[39m]\u001b[38;5;241m=\u001b[39m circular_coord\n\u001b[1;32m      4\u001b[0m df\u001b[38;5;241m=\u001b[39mpd\u001b[38;5;241m.\u001b[39mDataFrame\u001b[38;5;241m.\u001b[39mfrom_dict(dic)\n\u001b[0;32m----> 5\u001b[0m \u001b[43mdf\u001b[49m\u001b[38;5;241;43m.\u001b[39;49m\u001b[43mto_hdf\u001b[49m\u001b[43m(\u001b[49m\u001b[38;5;124;43m'\u001b[39;49m\u001b[38;5;124;43m../data/EDFigure6.h5\u001b[39;49m\u001b[38;5;124;43m'\u001b[39;49m\u001b[43m)\u001b[49m\n",
      "\u001b[0;31mTypeError\u001b[0m: to_hdf() missing 1 required positional argument: 'key'"
     ]
    }
   ],
   "source": [
    "dic = data.to_dict()\n",
    "circular_coord['position'] = circular_coord['position'].numpy()\n",
    "dic['circular_coord_analysis']= circular_coord\n",
    "df=pd.DataFrame.from_dict(dic)\n",
    "df.to_hdf('../data/EDFigure6.h5', key ='data', mod)\n"
   ]
  },
  {
   "cell_type": "code",
   "execution_count": 237,
   "id": "30e7adaf",
   "metadata": {},
   "outputs": [
    {
     "data": {
      "text/plain": [
       "3                                                               NaN\n",
       "8                                                               NaN\n",
       "16                                                              NaN\n",
       "32                                                              NaN\n",
       "64                                                              NaN\n",
       "circular_coord    {0: {3: [1.911962424024286, 1.7091433601766572...\n",
       "position          [[tensor(0.4261), tensor(1.), tensor(0.)], [te...\n",
       "Name: circular_coord_analysis, dtype: object"
      ]
     },
     "execution_count": 237,
     "metadata": {},
     "output_type": "execute_result"
    }
   ],
   "source": [
    "\n",
    "dic['circular_coord_analysis']"
   ]
  },
  {
   "cell_type": "code",
   "execution_count": 240,
   "id": "589aa549",
   "metadata": {},
   "outputs": [
    {
     "data": {
      "text/plain": [
       "array([[0.4261252 , 1.        , 0.        ],\n",
       "       [0.45637167, 1.        , 0.        ],\n",
       "       [0.9118277 , 0.        , 1.        ],\n",
       "       ...,\n",
       "       [1.5051924 , 0.        , 1.        ],\n",
       "       [1.5029149 , 0.        , 1.        ],\n",
       "       [0.39328432, 1.        , 0.        ]], dtype=float32)"
      ]
     },
     "execution_count": 240,
     "metadata": {},
     "output_type": "execute_result"
    }
   ],
   "source": [
    "\n",
    "circular_coord['position'].numpy()"
   ]
  },
  {
   "cell_type": "code",
   "execution_count": null,
   "id": "4d6c281f",
   "metadata": {},
   "outputs": [],
   "source": []
  }
 ],
 "metadata": {
  "kernelspec": {
   "display_name": "Python 3 (ipykernel)",
   "language": "python",
   "name": "python3"
  },
  "language_info": {
   "codemirror_mode": {
    "name": "ipython",
    "version": 3
   },
   "file_extension": ".py",
   "mimetype": "text/x-python",
   "name": "python",
   "nbconvert_exporter": "python",
   "pygments_lexer": "ipython3",
   "version": "3.8.13"
  }
 },
 "nbformat": 4,
 "nbformat_minor": 5
}
