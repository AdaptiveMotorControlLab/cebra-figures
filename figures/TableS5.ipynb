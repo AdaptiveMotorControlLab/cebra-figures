{
 "cells": [
  {
   "cell_type": "markdown",
   "id": "af979912",
   "metadata": {},
   "source": [
    "# Table S5"
   ]
  },
  {
   "cell_type": "code",
   "execution_count": 1,
   "id": "7d7f7e53",
   "metadata": {
    "execution": {
     "iopub.execute_input": "2022-08-17T17:11:17.659995Z",
     "iopub.status.busy": "2022-08-17T17:11:17.659685Z",
     "iopub.status.idle": "2022-08-17T17:11:18.335683Z",
     "shell.execute_reply": "2022-08-17T17:11:18.334913Z"
    }
   },
   "outputs": [],
   "source": [
    "import scipy.stats\n",
    "import numpy as np\n",
    "from statsmodels.stats.multicomp import pairwise_tukeyhsd\n",
    "from statsmodels.sandbox.stats.multicomp import get_tukey_pvalue\n",
    "import joblib\n",
    "import pandas as pd"
   ]
  },
  {
   "cell_type": "code",
   "execution_count": 2,
   "id": "d482ec04",
   "metadata": {
    "execution": {
     "iopub.execute_input": "2022-08-17T17:11:18.338415Z",
     "iopub.status.busy": "2022-08-17T17:11:18.338177Z",
     "iopub.status.idle": "2022-08-17T17:11:18.383455Z",
     "shell.execute_reply": "2022-08-17T17:11:18.382768Z"
    }
   },
   "outputs": [],
   "source": [
    "decoding_results=pd.read_hdf('../data/Figure5Revision.h5', data='key')"
   ]
  },
  {
   "cell_type": "code",
   "execution_count": 3,
   "id": "eed0f5f0",
   "metadata": {
    "execution": {
     "iopub.execute_input": "2022-08-17T17:11:18.386610Z",
     "iopub.status.busy": "2022-08-17T17:11:18.386363Z",
     "iopub.status.idle": "2022-08-17T17:11:18.392754Z",
     "shell.execute_reply": "2022-08-17T17:11:18.392084Z"
    }
   },
   "outputs": [],
   "source": [
    "def get_data(decoding_results, task, decoders, methods, window, modality, num_neurons):\n",
    "    if modality == 'ca':\n",
    "        index = 0\n",
    "    elif modality == 'np':\n",
    "        index = 1\n",
    "    accs=[]\n",
    "    keys=[]\n",
    "    for decoder, method in zip(decoders,methods):\n",
    "        key = f'{modality}_{method}_{window}'\n",
    "        if 'joint' in method:\n",
    "            acc =np.array(decoding_results[task][decoder][key][num_neurons])[:, index]\n",
    "        else:\n",
    "            acc=np.array(decoding_results[task][decoder][key][num_neurons])\n",
    "        accs.append(acc)\n",
    "        keys.append([f'{key}_{decoder}']*len(acc))\n",
    "    return np.concatenate(accs),np.concatenate(keys)\n",
    "\n",
    "    \n",
    "def concat_neurons(decoding_results, task, decoder, method, window, modality):\n",
    "    if modality == 'ca':\n",
    "        index = 0\n",
    "    elif modality == 'np':\n",
    "        index = 1\n",
    "    key = f'{modality}_{method}_{window}'\n",
    "    accs=[]\n",
    "    for n in decoding_results[task][decoder][key].keys():\n",
    "        if 'joint' in method:\n",
    "            accs.append(np.array(decoding_results[task][decoder][key][n])[:, index])\n",
    "        else:\n",
    "            accs.append(np.array(decoding_results[task][decoder][key][n]))\n",
    "    return np.concatenate(accs)"
   ]
  },
  {
   "cell_type": "markdown",
   "id": "11a3304c",
   "metadata": {},
   "source": [
    "## ANOVA for CEBRA, CEBRA-joint, baseline 33 ms (1 frame window):"
   ]
  },
  {
   "cell_type": "code",
   "execution_count": 4,
   "id": "3eb1e01d",
   "metadata": {
    "execution": {
     "iopub.execute_input": "2022-08-17T17:11:18.395624Z",
     "iopub.status.busy": "2022-08-17T17:11:18.395111Z",
     "iopub.status.idle": "2022-08-17T17:11:18.399995Z",
     "shell.execute_reply": "2022-08-17T17:11:18.399327Z"
    }
   },
   "outputs": [
    {
     "name": "stdout",
     "output_type": "stream",
     "text": [
      "NP total stats \n",
      " F_onewayResult(statistic=15.733284888195138, pvalue=3.3055419499175817e-09)\n"
     ]
    }
   ],
   "source": [
    "np_total_stats = scipy.stats.f_oneway(concat_neurons(decoding_results, 'scene_annotation', 'knn', 'cebra', '33', 'np'), \n",
    "                                      concat_neurons(decoding_results, 'scene_annotation', 'knn', 'cebra_joint', '33', 'np'), \n",
    "                                      concat_neurons(decoding_results, 'scene_annotation', 'knn', 'baseline', '33', 'np'),\n",
    "                                     concat_neurons(decoding_results, 'scene_annotation', 'bayes', 'baseline', '33', 'np'))\n",
    "\n",
    "\n",
    "\n",
    "print(f'NP total stats \\n {np_total_stats}')"
   ]
  },
  {
   "cell_type": "markdown",
   "id": "7d6deaed",
   "metadata": {},
   "source": [
    "## ANOVA for CEBRA, CEBRA-joint, baseline for each neuron numbers"
   ]
  },
  {
   "cell_type": "code",
   "execution_count": 5,
   "id": "4a1d7dcf",
   "metadata": {
    "execution": {
     "iopub.execute_input": "2022-08-17T17:11:18.404248Z",
     "iopub.status.busy": "2022-08-17T17:11:18.403619Z",
     "iopub.status.idle": "2022-08-17T17:11:19.851819Z",
     "shell.execute_reply": "2022-08-17T17:11:19.851061Z"
    }
   },
   "outputs": [
    {
     "name": "stdout",
     "output_type": "stream",
     "text": [
      "For 10 neurons from np recording (33ms, 1 frame):\n",
      "               Multiple Comparison of Means - Tukey HSD, FWER=0.05               \n",
      "=================================================================================\n",
      "       group1                group2        meandiff p-adj   lower   upper  reject\n",
      "---------------------------------------------------------------------------------\n",
      "np_baseline_33_bayes    np_baseline_33_knn  -0.0231 0.7553 -0.0897  0.0435  False\n",
      "np_baseline_33_bayes       np_cebra_33_knn   0.0113 0.9609 -0.0552  0.0779  False\n",
      "np_baseline_33_bayes np_cebra_joint_33_knn  -0.0891 0.0072 -0.1557 -0.0225   True\n",
      "  np_baseline_33_knn       np_cebra_33_knn   0.0344 0.4713 -0.0321   0.101  False\n",
      "  np_baseline_33_knn np_cebra_joint_33_knn   -0.066 0.0524 -0.1326  0.0006  False\n",
      "     np_cebra_33_knn np_cebra_joint_33_knn  -0.1004 0.0027  -0.167 -0.0339   True\n",
      "---------------------------------------------------------------------------------\n",
      "For 30 neurons from np recording (33ms, 1 frame):\n",
      "              Multiple Comparison of Means - Tukey HSD, FWER=0.05               \n",
      "================================================================================\n",
      "       group1                group2        meandiff p-adj   lower  upper  reject\n",
      "--------------------------------------------------------------------------------\n",
      "np_baseline_33_bayes    np_baseline_33_knn   0.0222 0.8323  -0.053 0.0975  False\n",
      "np_baseline_33_bayes       np_cebra_33_knn   0.0369 0.5155 -0.0383 0.1121  False\n",
      "np_baseline_33_bayes np_cebra_joint_33_knn   0.1371 0.0004  0.0618 0.2123   True\n",
      "  np_baseline_33_knn       np_cebra_33_knn   0.0147 0.9431 -0.0606 0.0899  False\n",
      "  np_baseline_33_knn np_cebra_joint_33_knn   0.1148 0.0024  0.0396 0.1901   True\n",
      "     np_cebra_33_knn np_cebra_joint_33_knn   0.1002 0.0076  0.0249 0.1754   True\n",
      "--------------------------------------------------------------------------------\n",
      "For 50 neurons from np recording (33ms, 1 frame):\n",
      "              Multiple Comparison of Means - Tukey HSD, FWER=0.05               \n",
      "================================================================================\n",
      "       group1                group2        meandiff p-adj   lower  upper  reject\n",
      "--------------------------------------------------------------------------------\n",
      "np_baseline_33_bayes    np_baseline_33_knn   0.0447 0.4575 -0.0402 0.1296  False\n",
      "np_baseline_33_bayes       np_cebra_33_knn    0.062 0.1986 -0.0229 0.1469  False\n",
      "np_baseline_33_bayes np_cebra_joint_33_knn   0.2556    0.0  0.1706 0.3405   True\n",
      "  np_baseline_33_knn       np_cebra_33_knn   0.0173 0.9355 -0.0676 0.1022  False\n",
      "  np_baseline_33_knn np_cebra_joint_33_knn   0.2109    0.0   0.126 0.2958   True\n",
      "     np_cebra_33_knn np_cebra_joint_33_knn   0.1936    0.0  0.1086 0.2785   True\n",
      "--------------------------------------------------------------------------------\n",
      "For 100 neurons from np recording (33ms, 1 frame):\n",
      "              Multiple Comparison of Means - Tukey HSD, FWER=0.05               \n",
      "================================================================================\n",
      "       group1                group2        meandiff p-adj   lower  upper  reject\n",
      "--------------------------------------------------------------------------------\n",
      "np_baseline_33_bayes    np_baseline_33_knn   0.0676 0.0207  0.0092  0.126   True\n",
      "np_baseline_33_bayes       np_cebra_33_knn   0.0767 0.0084  0.0183 0.1351   True\n",
      "np_baseline_33_bayes np_cebra_joint_33_knn   0.3844    0.0   0.326 0.4428   True\n",
      "  np_baseline_33_knn       np_cebra_33_knn   0.0091 0.9694 -0.0493 0.0675  False\n",
      "  np_baseline_33_knn np_cebra_joint_33_knn   0.3168    0.0  0.2584 0.3752   True\n",
      "     np_cebra_33_knn np_cebra_joint_33_knn   0.3077    0.0  0.2493 0.3661   True\n",
      "--------------------------------------------------------------------------------\n",
      "For 200 neurons from np recording (33ms, 1 frame):\n",
      "              Multiple Comparison of Means - Tukey HSD, FWER=0.05               \n",
      "================================================================================\n",
      "       group1                group2        meandiff p-adj   lower  upper  reject\n",
      "--------------------------------------------------------------------------------\n",
      "np_baseline_33_bayes    np_baseline_33_knn   0.1062 0.0106  0.0228 0.1896   True\n",
      "np_baseline_33_bayes       np_cebra_33_knn   0.1749 0.0001  0.0915 0.2583   True\n",
      "np_baseline_33_bayes np_cebra_joint_33_knn   0.3932    0.0  0.3098 0.4766   True\n",
      "  np_baseline_33_knn       np_cebra_33_knn   0.0687 0.1269 -0.0148 0.1521  False\n",
      "  np_baseline_33_knn np_cebra_joint_33_knn    0.287    0.0  0.2036 0.3704   True\n",
      "     np_cebra_33_knn np_cebra_joint_33_knn   0.2183    0.0  0.1349 0.3018   True\n",
      "--------------------------------------------------------------------------------\n",
      "For 400 neurons from np recording (33ms, 1 frame):\n",
      "              Multiple Comparison of Means - Tukey HSD, FWER=0.05               \n",
      "================================================================================\n",
      "       group1                group2        meandiff p-adj   lower  upper  reject\n",
      "--------------------------------------------------------------------------------\n",
      "np_baseline_33_bayes    np_baseline_33_knn   0.0747 0.0047  0.0218 0.1275   True\n",
      "np_baseline_33_bayes       np_cebra_33_knn   0.1111 0.0001  0.0582  0.164   True\n",
      "np_baseline_33_bayes np_cebra_joint_33_knn   0.3014    0.0  0.2485 0.3543   True\n",
      "  np_baseline_33_knn       np_cebra_33_knn   0.0364  0.239 -0.0164 0.0893  False\n",
      "  np_baseline_33_knn np_cebra_joint_33_knn   0.2267    0.0  0.1739 0.2796   True\n",
      "     np_cebra_33_knn np_cebra_joint_33_knn   0.1903    0.0  0.1374 0.2431   True\n",
      "--------------------------------------------------------------------------------\n",
      "For 600 neurons from np recording (33ms, 1 frame):\n",
      "              Multiple Comparison of Means - Tukey HSD, FWER=0.05              \n",
      "===============================================================================\n",
      "       group1                group2        meandiff p-adj  lower  upper  reject\n",
      "-------------------------------------------------------------------------------\n",
      "np_baseline_33_bayes    np_baseline_33_knn   0.0531 0.0013 0.0206 0.0856   True\n",
      "np_baseline_33_bayes       np_cebra_33_knn   0.1011    0.0 0.0686 0.1336   True\n",
      "np_baseline_33_bayes np_cebra_joint_33_knn   0.2512    0.0 0.2187 0.2837   True\n",
      "  np_baseline_33_knn       np_cebra_33_knn    0.048 0.0032 0.0155 0.0805   True\n",
      "  np_baseline_33_knn np_cebra_joint_33_knn   0.1981    0.0 0.1656 0.2305   True\n",
      "     np_cebra_33_knn np_cebra_joint_33_knn   0.1501    0.0 0.1176 0.1825   True\n",
      "-------------------------------------------------------------------------------\n",
      "For 800 neurons from np recording (33ms, 1 frame):\n",
      "             Multiple Comparison of Means - Tukey HSD, FWER=0.05              \n",
      "==============================================================================\n",
      "       group1                group2        meandiff p-adj lower  upper  reject\n",
      "------------------------------------------------------------------------------\n",
      "np_baseline_33_bayes    np_baseline_33_knn   0.0553   0.0 0.0317 0.0789   True\n",
      "np_baseline_33_bayes       np_cebra_33_knn    0.116   0.0 0.0924 0.1396   True\n",
      "np_baseline_33_bayes np_cebra_joint_33_knn   0.2303   0.0 0.2067 0.2539   True\n",
      "  np_baseline_33_knn       np_cebra_33_knn   0.0607   0.0 0.0371 0.0843   True\n",
      "  np_baseline_33_knn np_cebra_joint_33_knn   0.1749   0.0 0.1513 0.1986   True\n",
      "     np_cebra_33_knn np_cebra_joint_33_knn   0.1143   0.0 0.0907 0.1379   True\n",
      "------------------------------------------------------------------------------\n",
      "For 900 neurons from np recording (33ms, 1 frame):\n",
      "              Multiple Comparison of Means - Tukey HSD, FWER=0.05              \n",
      "===============================================================================\n",
      "       group1                group2        meandiff p-adj  lower  upper  reject\n",
      "-------------------------------------------------------------------------------\n",
      "np_baseline_33_bayes    np_baseline_33_knn   0.0567 0.0062 0.0152 0.0982   True\n",
      "np_baseline_33_bayes       np_cebra_33_knn   0.1062    0.0 0.0647 0.1477   True\n",
      "np_baseline_33_bayes np_cebra_joint_33_knn   0.2256    0.0 0.1841 0.2671   True\n",
      "  np_baseline_33_knn       np_cebra_33_knn   0.0496 0.0168 0.0081 0.0911   True\n",
      "  np_baseline_33_knn np_cebra_joint_33_knn   0.1689    0.0 0.1274 0.2104   True\n",
      "     np_cebra_33_knn np_cebra_joint_33_knn   0.1194    0.0 0.0779 0.1609   True\n",
      "-------------------------------------------------------------------------------\n",
      "For 1000 neurons from np recording (33ms, 1 frame):\n",
      "              Multiple Comparison of Means - Tukey HSD, FWER=0.05              \n",
      "===============================================================================\n",
      "       group1                group2        meandiff p-adj  lower  upper  reject\n",
      "-------------------------------------------------------------------------------\n",
      "np_baseline_33_bayes    np_baseline_33_knn   0.0527 0.0002 0.0259 0.0794   True\n",
      "np_baseline_33_bayes       np_cebra_33_knn   0.1407    0.0 0.1139 0.1674   True\n",
      "np_baseline_33_bayes np_cebra_joint_33_knn   0.2103    0.0 0.1835  0.237   True\n",
      "  np_baseline_33_knn       np_cebra_33_knn    0.088    0.0 0.0613 0.1147   True\n",
      "  np_baseline_33_knn np_cebra_joint_33_knn   0.1576    0.0 0.1309 0.1844   True\n",
      "     np_cebra_33_knn np_cebra_joint_33_knn   0.0696    0.0 0.0429 0.0964   True\n",
      "-------------------------------------------------------------------------------\n"
     ]
    }
   ],
   "source": [
    "num_neurons = [10, 30, 50, 100, 200, 400, 600, 800, 900, 1000]\n",
    "for i in num_neurons:\n",
    "    print(f'For {i} neurons from np recording (33ms, 1 frame):')\n",
    "    \n",
    "    np_data, np_keys = get_data(decoding_results, 'scene_annotation', ['knn', 'knn', 'knn', 'bayes'], ['cebra', 'cebra_joint', 'baseline', 'baseline'], '33', 'np', i)\n",
    "    \n",
    "    stats=pairwise_tukeyhsd(np_data.flatten(), np_keys)\n",
    "    print(stats)"
   ]
  }
 ],
 "metadata": {
  "kernelspec": {
   "display_name": "Python 3 (ipykernel)",
   "language": "python",
   "name": "python3"
  },
  "language_info": {
   "codemirror_mode": {
    "name": "ipython",
    "version": 3
   },
   "file_extension": ".py",
   "mimetype": "text/x-python",
   "name": "python",
   "nbconvert_exporter": "python",
   "pygments_lexer": "ipython3",
   "version": "3.10.6"
  }
 },
 "nbformat": 4,
 "nbformat_minor": 5
}
