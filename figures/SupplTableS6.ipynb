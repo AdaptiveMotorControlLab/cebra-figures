{
 "cells": [
  {
   "cell_type": "markdown",
   "id": "c48176ff",
   "metadata": {},
   "source": [
    "# Table SX (TODO name)"
   ]
  },
  {
   "cell_type": "code",
   "execution_count": 1,
   "id": "b28ee236",
   "metadata": {
    "execution": {
     "iopub.execute_input": "2022-08-29T10:25:44.788392Z",
     "iopub.status.busy": "2022-08-29T10:25:44.787674Z",
     "iopub.status.idle": "2022-08-29T10:25:45.295906Z",
     "shell.execute_reply": "2022-08-29T10:25:45.295027Z"
    }
   },
   "outputs": [],
   "source": [
    "import scipy.stats\n",
    "import numpy as np\n",
    "from statsmodels.stats.multicomp import pairwise_tukeyhsd\n",
    "from statsmodels.sandbox.stats.multicomp import get_tukey_pvalue\n",
    "import joblib\n",
    "import pandas as pd"
   ]
  },
  {
   "cell_type": "code",
   "execution_count": 2,
   "id": "69538a0b",
   "metadata": {
    "execution": {
     "iopub.execute_input": "2022-08-29T10:25:45.299822Z",
     "iopub.status.busy": "2022-08-29T10:25:45.299322Z",
     "iopub.status.idle": "2022-08-29T10:25:45.367052Z",
     "shell.execute_reply": "2022-08-29T10:25:45.366592Z"
    }
   },
   "outputs": [],
   "source": [
    "decoding_results=pd.read_hdf('../data/Figure5Revision.h5', data='key')"
   ]
  },
  {
   "cell_type": "code",
   "execution_count": 3,
   "id": "52e9ae73",
   "metadata": {
    "execution": {
     "iopub.execute_input": "2022-08-29T10:25:45.369672Z",
     "iopub.status.busy": "2022-08-29T10:25:45.369484Z",
     "iopub.status.idle": "2022-08-29T10:25:45.375817Z",
     "shell.execute_reply": "2022-08-29T10:25:45.375054Z"
    }
   },
   "outputs": [],
   "source": [
    "def get_data(decoding_results, task, decoders, methods, window, modality, num_neurons):\n",
    "    if modality == 'ca':\n",
    "        index = 0\n",
    "    elif modality == 'np':\n",
    "        index = 1\n",
    "    accs=[]\n",
    "    keys=[]\n",
    "    for decoder, method in zip(decoders,methods):\n",
    "        key = f'{modality}_{method}_{window}'\n",
    "        if 'joint' in method:\n",
    "            seeds = decoding_results[task][decoder][key][num_neurons]\n",
    "            acc= [abs(s[index]).mean() for s in seeds]\n",
    "        else:\n",
    "            acc= abs(np.array(decoding_results[task][decoder][key][num_neurons])).mean(axis=-1)\n",
    "        accs.append(acc)\n",
    "        keys.append([f'{key}_{decoder}']*len(acc))\n",
    "    return np.concatenate(accs),np.concatenate(keys)\n",
    "\n",
    "\n",
    "def concat_neurons(decoding_results, task, decoder, method, window, modality, n = 1000):\n",
    "    if modality == 'ca':\n",
    "        index = 0\n",
    "    elif modality == 'np':\n",
    "        index = 1\n",
    "    key = f'{modality}_{method}_{window}'\n",
    "    accs=[]\n",
    "    if 'joint' in method:\n",
    "        seeds = decoding_results[task][decoder][key][n]\n",
    "        accs.append([abs(s[index]).mean() for s in seeds])\n",
    "    else:\n",
    "        accs.append(abs(np.array(decoding_results[task][decoder][key][n])).mean(axis=-1))\n",
    "    return np.concatenate(accs)"
   ]
  },
  {
   "cell_type": "markdown",
   "id": "45522074",
   "metadata": {},
   "source": [
    "## ANOVA for CEBRA, CEBRA-joint, baseline 330 ms (10 frame window), 1000 neurons:"
   ]
  },
  {
   "cell_type": "code",
   "execution_count": 4,
   "id": "f9e4b21e",
   "metadata": {
    "execution": {
     "iopub.execute_input": "2022-08-29T10:25:45.378854Z",
     "iopub.status.busy": "2022-08-29T10:25:45.378436Z",
     "iopub.status.idle": "2022-08-29T10:25:45.388296Z",
     "shell.execute_reply": "2022-08-29T10:25:45.387372Z"
    }
   },
   "outputs": [
    {
     "name": "stdout",
     "output_type": "stream",
     "text": [
      "NP total stats \n",
      " F_onewayResult(statistic=20.21719889707136, pvalue=1.0857679658422556e-05)\n"
     ]
    }
   ],
   "source": [
    "np_total_stats = scipy.stats.f_oneway(concat_neurons(decoding_results, 'frame_err', 'knn', 'cebra', '330', 'np'),\n",
    "                                      concat_neurons(decoding_results, 'frame_err', 'knn', 'cebra_joint', '330', 'np'),\n",
    "                                      concat_neurons(decoding_results, 'frame_err', 'knn', 'baseline', '330', 'np'),\n",
    "                                     concat_neurons(decoding_results, 'frame_err', 'bayes', 'baseline', '330', 'np'))\n",
    "\n",
    "\n",
    "\n",
    "print(f'NP total stats \\n {np_total_stats}')"
   ]
  },
  {
   "cell_type": "code",
   "execution_count": 5,
   "id": "e04ba4cb",
   "metadata": {
    "execution": {
     "iopub.execute_input": "2022-08-29T10:25:45.391559Z",
     "iopub.status.busy": "2022-08-29T10:25:45.391128Z",
     "iopub.status.idle": "2022-08-29T10:25:45.561181Z",
     "shell.execute_reply": "2022-08-29T10:25:45.560599Z"
    }
   },
   "outputs": [
    {
     "name": "stdout",
     "output_type": "stream",
     "text": [
      "For 1000 neurons from np recording (330ms):\n",
      "                Multiple Comparison of Means - Tukey HSD, FWER=0.05                 \n",
      "====================================================================================\n",
      "        group1                group2         meandiff p-adj   lower    upper  reject\n",
      "------------------------------------------------------------------------------------\n",
      "np_baseline_330_bayes    np_baseline_330_knn   1.8628 0.5277  -1.9939  5.7195  False\n",
      "np_baseline_330_bayes       np_cebra_330_knn  -6.3068 0.0013 -10.1635 -2.4501   True\n",
      "np_baseline_330_bayes np_cebra_joint_330_knn  -6.4403 0.0011  -10.297 -2.5836   True\n",
      "  np_baseline_330_knn       np_cebra_330_knn  -8.1696 0.0001 -12.0263 -4.3129   True\n",
      "  np_baseline_330_knn np_cebra_joint_330_knn  -8.3031 0.0001 -12.1597 -4.4464   True\n",
      "     np_cebra_330_knn np_cebra_joint_330_knn  -0.1334 0.9996  -3.9901  3.7232  False\n",
      "------------------------------------------------------------------------------------\n"
     ]
    }
   ],
   "source": [
    "num_neurons = [1000]\n",
    "for i in num_neurons:\n",
    "    print(f'For {i} neurons from np recording (330ms):')\n",
    "\n",
    "    np_data, np_keys = get_data(decoding_results, 'frame_err', ['knn', 'knn', 'knn', 'bayes'], ['cebra', 'cebra_joint', 'baseline', 'baseline'], '330', 'np', i)\n",
    "\n",
    "    stats=pairwise_tukeyhsd(np_data.flatten(), np_keys,)\n",
    "    print(stats)"
   ]
  }
 ],
 "metadata": {
  "kernelspec": {
   "display_name": "Python 3 (ipykernel)",
   "language": "python",
   "name": "python3"
  },
  "language_info": {
   "codemirror_mode": {
    "name": "ipython",
    "version": 3
   },
   "file_extension": ".py",
   "mimetype": "text/x-python",
   "name": "python",
   "nbconvert_exporter": "python",
   "pygments_lexer": "ipython3",
   "version": "3.9.12"
  }
 },
 "nbformat": 4,
 "nbformat_minor": 5
}
