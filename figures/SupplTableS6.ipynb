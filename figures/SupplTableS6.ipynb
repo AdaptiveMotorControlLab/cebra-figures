{
 "cells": [
  {
   "cell_type": "markdown",
   "id": "eeac34e2",
   "metadata": {},
   "source": [
    "# Table S6"
   ]
  },
  {
   "cell_type": "code",
   "execution_count": 1,
   "id": "f573c3b6",
   "metadata": {
    "execution": {
     "iopub.execute_input": "2022-10-11T00:55:26.260287Z",
     "iopub.status.busy": "2022-10-11T00:55:26.259804Z",
     "iopub.status.idle": "2022-10-11T00:55:27.325286Z",
     "shell.execute_reply": "2022-10-11T00:55:27.324335Z"
    }
   },
   "outputs": [],
   "source": [
    "import scipy.stats\n",
    "import numpy as np\n",
    "from statsmodels.stats.multicomp import pairwise_tukeyhsd\n",
    "from statsmodels.sandbox.stats.multicomp import get_tukey_pvalue\n",
    "import joblib\n",
    "import pandas as pd"
   ]
  },
  {
   "cell_type": "code",
   "execution_count": 2,
   "id": "eb3358c7",
   "metadata": {
    "execution": {
     "iopub.execute_input": "2022-10-11T00:55:27.329044Z",
     "iopub.status.busy": "2022-10-11T00:55:27.328688Z",
     "iopub.status.idle": "2022-10-11T00:55:27.383497Z",
     "shell.execute_reply": "2022-10-11T00:55:27.382461Z"
    }
   },
   "outputs": [],
   "source": [
    "decoding_results = pd.read_hdf(\"../data/Figure5Revision.h5\", data=\"key\")"
   ]
  },
  {
   "cell_type": "code",
   "execution_count": 3,
   "id": "bfcf735a",
   "metadata": {
    "execution": {
     "iopub.execute_input": "2022-10-11T00:55:27.387103Z",
     "iopub.status.busy": "2022-10-11T00:55:27.386829Z",
     "iopub.status.idle": "2022-10-11T00:55:27.397608Z",
     "shell.execute_reply": "2022-10-11T00:55:27.396622Z"
    }
   },
   "outputs": [],
   "source": [
    "def get_data(decoding_results, task, decoders, methods, window, modality, num_neurons):\n",
    "    if modality == \"ca\":\n",
    "        index = 0\n",
    "    elif modality == \"np\":\n",
    "        index = 1\n",
    "    accs = []\n",
    "    keys = []\n",
    "    for decoder, method in zip(decoders, methods):\n",
    "        key = f\"{modality}_{method}_{window}\"\n",
    "        if \"joint\" in method:\n",
    "            seeds = decoding_results[task][decoder][key][num_neurons]\n",
    "            acc = [abs(s[index]).mean() for s in seeds]\n",
    "        else:\n",
    "            acc = abs(np.array(decoding_results[task][decoder][key][num_neurons])).mean(\n",
    "                axis=-1\n",
    "            )\n",
    "        accs.append(acc)\n",
    "        keys.append([f\"{key}_{decoder}\"] * len(acc))\n",
    "    return np.concatenate(accs), np.concatenate(keys)\n",
    "\n",
    "\n",
    "def concat_neurons(decoding_results, task, decoder, method, window, modality, n=1000):\n",
    "    if modality == \"ca\":\n",
    "        index = 0\n",
    "    elif modality == \"np\":\n",
    "        index = 1\n",
    "    key = f\"{modality}_{method}_{window}\"\n",
    "    accs = []\n",
    "    if \"joint\" in method:\n",
    "        seeds = decoding_results[task][decoder][key][n]\n",
    "        accs.append([abs(s[index]).mean() for s in seeds])\n",
    "    else:\n",
    "        accs.append(\n",
    "            abs(np.array(decoding_results[task][decoder][key][n])).mean(axis=-1)\n",
    "        )\n",
    "    return np.concatenate(accs)"
   ]
  },
  {
   "cell_type": "markdown",
   "id": "a9a1510a",
   "metadata": {},
   "source": [
    "## ANOVA for CEBRA, CEBRA-joint, baseline 330 ms (10 frame window), 1000 neurons:"
   ]
  },
  {
   "cell_type": "code",
   "execution_count": 4,
   "id": "eca04265",
   "metadata": {
    "execution": {
     "iopub.execute_input": "2022-10-11T00:55:27.401373Z",
     "iopub.status.busy": "2022-10-11T00:55:27.400936Z",
     "iopub.status.idle": "2022-10-11T00:55:27.409429Z",
     "shell.execute_reply": "2022-10-11T00:55:27.408225Z"
    }
   },
   "outputs": [
    {
     "name": "stdout",
     "output_type": "stream",
     "text": [
      "NP total stats \n",
      " F_onewayResult(statistic=20.21719889707136, pvalue=1.0857679658422556e-05)\n"
     ]
    }
   ],
   "source": [
    "np_total_stats = scipy.stats.f_oneway(\n",
    "    concat_neurons(decoding_results, \"frame_err\", \"knn\", \"cebra\", \"330\", \"np\"),\n",
    "    concat_neurons(decoding_results, \"frame_err\", \"knn\", \"cebra_joint\", \"330\", \"np\"),\n",
    "    concat_neurons(decoding_results, \"frame_err\", \"knn\", \"baseline\", \"330\", \"np\"),\n",
    "    concat_neurons(decoding_results, \"frame_err\", \"bayes\", \"baseline\", \"330\", \"np\"),\n",
    ")\n",
    "\n",
    "\n",
    "print(f\"NP total stats \\n {np_total_stats}\")"
   ]
  },
  {
   "cell_type": "code",
   "execution_count": 5,
   "id": "979c50e4",
   "metadata": {
    "execution": {
     "iopub.execute_input": "2022-10-11T00:55:27.412857Z",
     "iopub.status.busy": "2022-10-11T00:55:27.412552Z",
     "iopub.status.idle": "2022-10-11T00:55:27.745444Z",
     "shell.execute_reply": "2022-10-11T00:55:27.744782Z"
    }
   },
   "outputs": [
    {
     "name": "stdout",
     "output_type": "stream",
     "text": [
      "For 1000 neurons from np recording (330ms):\n",
      "                Multiple Comparison of Means - Tukey HSD, FWER=0.05                 \n",
      "====================================================================================\n",
      "        group1                group2         meandiff p-adj   lower    upper  reject\n",
      "------------------------------------------------------------------------------------\n",
      "np_baseline_330_bayes    np_baseline_330_knn   1.8628 0.5277  -1.9939  5.7195  False\n",
      "np_baseline_330_bayes       np_cebra_330_knn  -6.3068 0.0013 -10.1635 -2.4501   True\n",
      "np_baseline_330_bayes np_cebra_joint_330_knn  -6.4403 0.0011  -10.297 -2.5836   True\n",
      "  np_baseline_330_knn       np_cebra_330_knn  -8.1696 0.0001 -12.0263 -4.3129   True\n",
      "  np_baseline_330_knn np_cebra_joint_330_knn  -8.3031 0.0001 -12.1597 -4.4464   True\n",
      "     np_cebra_330_knn np_cebra_joint_330_knn  -0.1334 0.9996  -3.9901  3.7232  False\n",
      "------------------------------------------------------------------------------------\n"
     ]
    }
   ],
   "source": [
    "num_neurons = [1000]\n",
    "for i in num_neurons:\n",
    "    print(f\"For {i} neurons from np recording (330ms):\")\n",
    "\n",
    "    np_data, np_keys = get_data(\n",
    "        decoding_results,\n",
    "        \"frame_err\",\n",
    "        [\"knn\", \"knn\", \"knn\", \"bayes\"],\n",
    "        [\"cebra\", \"cebra_joint\", \"baseline\", \"baseline\"],\n",
    "        \"330\",\n",
    "        \"np\",\n",
    "        i,\n",
    "    )\n",
    "\n",
    "    stats = pairwise_tukeyhsd(\n",
    "        np_data.flatten(),\n",
    "        np_keys,\n",
    "    )\n",
    "    print(stats)"
   ]
  }
 ],
 "metadata": {
  "kernelspec": {
   "display_name": "Python 3 (ipykernel)",
   "language": "python",
   "name": "python3"
  },
  "language_info": {
   "codemirror_mode": {
    "name": "ipython",
    "version": 3
   },
   "file_extension": ".py",
   "mimetype": "text/x-python",
   "name": "python",
   "nbconvert_exporter": "python",
   "pygments_lexer": "ipython3",
   "version": "3.8.0"
  }
 },
 "nbformat": 4,
 "nbformat_minor": 5
}
