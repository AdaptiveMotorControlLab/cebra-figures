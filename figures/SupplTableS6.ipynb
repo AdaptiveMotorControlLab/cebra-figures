{
 "cells": [
  {
   "cell_type": "markdown",
   "id": "844d4dd5",
   "metadata": {},
   "source": [
    "# Table SX (TODO name)"
   ]
  },
  {
   "cell_type": "code",
   "execution_count": 1,
   "id": "eb1b0055",
   "metadata": {
    "execution": {
     "iopub.execute_input": "2022-09-02T10:00:31.858688Z",
     "iopub.status.busy": "2022-09-02T10:00:31.857483Z",
     "iopub.status.idle": "2022-09-02T10:00:32.959916Z",
     "shell.execute_reply": "2022-09-02T10:00:32.958261Z"
    }
   },
   "outputs": [],
   "source": [
    "import scipy.stats\n",
    "import numpy as np\n",
    "from statsmodels.stats.multicomp import pairwise_tukeyhsd\n",
    "from statsmodels.sandbox.stats.multicomp import get_tukey_pvalue\n",
    "import joblib\n",
    "import pandas as pd"
   ]
  },
  {
   "cell_type": "code",
   "execution_count": 2,
   "id": "9faed8e4",
   "metadata": {
    "execution": {
     "iopub.execute_input": "2022-09-02T10:00:32.965998Z",
     "iopub.status.busy": "2022-09-02T10:00:32.965292Z",
     "iopub.status.idle": "2022-09-02T10:00:33.052398Z",
     "shell.execute_reply": "2022-09-02T10:00:33.051115Z"
    }
   },
   "outputs": [],
   "source": [
    "decoding_results=pd.read_hdf('../data/Figure5Revision.h5', data='key')"
   ]
  },
  {
   "cell_type": "code",
   "execution_count": 3,
   "id": "ee004b42",
   "metadata": {
    "execution": {
     "iopub.execute_input": "2022-09-02T10:00:33.059785Z",
     "iopub.status.busy": "2022-09-02T10:00:33.058839Z",
     "iopub.status.idle": "2022-09-02T10:00:33.072201Z",
     "shell.execute_reply": "2022-09-02T10:00:33.070760Z"
    }
   },
   "outputs": [],
   "source": [
    "def get_data(decoding_results, task, decoders, methods, window, modality, num_neurons):\n",
    "    if modality == 'ca':\n",
    "        index = 0\n",
    "    elif modality == 'np':\n",
    "        index = 1\n",
    "    accs=[]\n",
    "    keys=[]\n",
    "    for decoder, method in zip(decoders,methods):\n",
    "        key = f'{modality}_{method}_{window}'\n",
    "        if 'joint' in method:\n",
    "            seeds = decoding_results[task][decoder][key][num_neurons]\n",
    "            acc= [abs(s[index]).mean() for s in seeds]\n",
    "        else:\n",
    "            acc= abs(np.array(decoding_results[task][decoder][key][num_neurons])).mean(axis=-1)\n",
    "        accs.append(acc)\n",
    "        keys.append([f'{key}_{decoder}']*len(acc))\n",
    "    return np.concatenate(accs),np.concatenate(keys)\n",
    "\n",
    "\n",
    "def concat_neurons(decoding_results, task, decoder, method, window, modality, n = 1000):\n",
    "    if modality == 'ca':\n",
    "        index = 0\n",
    "    elif modality == 'np':\n",
    "        index = 1\n",
    "    key = f'{modality}_{method}_{window}'\n",
    "    accs=[]\n",
    "    if 'joint' in method:\n",
    "        seeds = decoding_results[task][decoder][key][n]\n",
    "        accs.append([abs(s[index]).mean() for s in seeds])\n",
    "    else:\n",
    "        accs.append(abs(np.array(decoding_results[task][decoder][key][n])).mean(axis=-1))\n",
    "    return np.concatenate(accs)"
   ]
  },
  {
   "cell_type": "markdown",
   "id": "fcf7e1c3",
   "metadata": {},
   "source": [
    "## ANOVA for CEBRA, CEBRA-joint, baseline 330 ms (10 frame window), 1000 neurons:"
   ]
  },
  {
   "cell_type": "code",
   "execution_count": 4,
   "id": "43a6c41e",
   "metadata": {
    "execution": {
     "iopub.execute_input": "2022-09-02T10:00:33.078580Z",
     "iopub.status.busy": "2022-09-02T10:00:33.077945Z",
     "iopub.status.idle": "2022-09-02T10:00:33.089212Z",
     "shell.execute_reply": "2022-09-02T10:00:33.088257Z"
    }
   },
   "outputs": [
    {
     "name": "stdout",
     "output_type": "stream",
     "text": [
      "NP total stats \n",
      " F_onewayResult(statistic=20.21719889707136, pvalue=1.0857679658422556e-05)\n"
     ]
    }
   ],
   "source": [
    "np_total_stats = scipy.stats.f_oneway(concat_neurons(decoding_results, 'frame_err', 'knn', 'cebra', '330', 'np'),\n",
    "                                      concat_neurons(decoding_results, 'frame_err', 'knn', 'cebra_joint', '330', 'np'),\n",
    "                                      concat_neurons(decoding_results, 'frame_err', 'knn', 'baseline', '330', 'np'),\n",
    "                                     concat_neurons(decoding_results, 'frame_err', 'bayes', 'baseline', '330', 'np'))\n",
    "\n",
    "\n",
    "\n",
    "print(f'NP total stats \\n {np_total_stats}')"
   ]
  },
  {
   "cell_type": "code",
   "execution_count": 5,
   "id": "961468ff",
   "metadata": {
    "execution": {
     "iopub.execute_input": "2022-09-02T10:00:33.092632Z",
     "iopub.status.busy": "2022-09-02T10:00:33.092259Z",
     "iopub.status.idle": "2022-09-02T10:00:33.402758Z",
     "shell.execute_reply": "2022-09-02T10:00:33.401633Z"
    }
   },
   "outputs": [
    {
     "name": "stdout",
     "output_type": "stream",
     "text": [
      "For 1000 neurons from np recording (330ms):\n",
      "                Multiple Comparison of Means - Tukey HSD, FWER=0.05                 \n",
      "====================================================================================\n",
      "        group1                group2         meandiff p-adj   lower    upper  reject\n",
      "------------------------------------------------------------------------------------\n",
      "np_baseline_330_bayes    np_baseline_330_knn   1.8628 0.5277  -1.9939  5.7195  False\n",
      "np_baseline_330_bayes       np_cebra_330_knn  -6.3068 0.0013 -10.1635 -2.4501   True\n",
      "np_baseline_330_bayes np_cebra_joint_330_knn  -6.4403 0.0011  -10.297 -2.5836   True\n",
      "  np_baseline_330_knn       np_cebra_330_knn  -8.1696 0.0001 -12.0263 -4.3129   True\n",
      "  np_baseline_330_knn np_cebra_joint_330_knn  -8.3031 0.0001 -12.1597 -4.4464   True\n",
      "     np_cebra_330_knn np_cebra_joint_330_knn  -0.1334 0.9996  -3.9901  3.7232  False\n",
      "------------------------------------------------------------------------------------\n"
     ]
    }
   ],
   "source": [
    "num_neurons = [1000]\n",
    "for i in num_neurons:\n",
    "    print(f'For {i} neurons from np recording (330ms):')\n",
    "\n",
    "    np_data, np_keys = get_data(decoding_results, 'frame_err', ['knn', 'knn', 'knn', 'bayes'], ['cebra', 'cebra_joint', 'baseline', 'baseline'], '330', 'np', i)\n",
    "\n",
    "    stats=pairwise_tukeyhsd(np_data.flatten(), np_keys,)\n",
    "    print(stats)"
   ]
  }
 ],
 "metadata": {
  "kernelspec": {
   "display_name": "Python 3 (ipykernel)",
   "language": "python",
   "name": "python3"
  },
  "language_info": {
   "codemirror_mode": {
    "name": "ipython",
    "version": 3
   },
   "file_extension": ".py",
   "mimetype": "text/x-python",
   "name": "python",
   "nbconvert_exporter": "python",
   "pygments_lexer": "ipython3",
   "version": "3.8.0"
  }
 },
 "nbformat": 4,
 "nbformat_minor": 5
}
