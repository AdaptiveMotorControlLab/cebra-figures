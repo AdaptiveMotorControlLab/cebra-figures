{
 "cells": [
  {
   "cell_type": "markdown",
   "id": "e0b51d36",
   "metadata": {},
   "source": [
    "# Extended Data Figure 3: CEBRA produces consistent, highly decodable embeddings"
   ]
  },
  {
   "cell_type": "markdown",
   "id": "1f07b0f0",
   "metadata": {},
   "source": [
    "## panel a"
   ]
  },
  {
   "cell_type": "code",
   "execution_count": 1,
   "id": "a8ac27da",
   "metadata": {
    "execution": {
     "iopub.execute_input": "2022-08-29T10:25:37.399246Z",
     "iopub.status.busy": "2022-08-29T10:25:37.398764Z",
     "iopub.status.idle": "2022-08-29T10:25:37.404284Z",
     "shell.execute_reply": "2022-08-29T10:25:37.403581Z"
    }
   },
   "outputs": [],
   "source": [
    "#"
   ]
  },
  {
   "cell_type": "markdown",
   "id": "343d943e",
   "metadata": {},
   "source": [
    "## panel b"
   ]
  },
  {
   "cell_type": "code",
   "execution_count": 2,
   "id": "313945b1",
   "metadata": {
    "execution": {
     "iopub.execute_input": "2022-08-29T10:25:37.407536Z",
     "iopub.status.busy": "2022-08-29T10:25:37.406907Z",
     "iopub.status.idle": "2022-08-29T10:25:37.410389Z",
     "shell.execute_reply": "2022-08-29T10:25:37.409722Z"
    }
   },
   "outputs": [],
   "source": [
    "# "
   ]
  }
 ],
 "metadata": {
  "jupytext": {
   "formats": "ipynb,py:light"
  },
  "kernelspec": {
   "display_name": "Python 3 (ipykernel)",
   "language": "python",
   "name": "python3"
  },
  "language_info": {
   "codemirror_mode": {
    "name": "ipython",
    "version": 3
   },
   "file_extension": ".py",
   "mimetype": "text/x-python",
   "name": "python",
   "nbconvert_exporter": "python",
   "pygments_lexer": "ipython3",
   "version": "3.9.12"
  }
 },
 "nbformat": 4,
 "nbformat_minor": 5
}
