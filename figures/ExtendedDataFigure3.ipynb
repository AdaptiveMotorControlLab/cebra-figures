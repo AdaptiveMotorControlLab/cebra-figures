{
 "cells": [
  {
   "cell_type": "markdown",
   "id": "90a64040",
   "metadata": {},
   "source": [
    "# Extended Data Figure 3: CEBRA produces consistent, highly decodable embeddings"
   ]
  },
  {
   "cell_type": "markdown",
   "id": "44348010",
   "metadata": {},
   "source": [
    "- Additional rat data shown for all algorithms we benchmarked (see Methods). CEBRA was trained with output latent 3D (the minimum) and all other methods were obtained with a 2D latent"
   ]
  },
  {
   "cell_type": "code",
   "execution_count": 1,
   "id": "10b58bec",
   "metadata": {
    "execution": {
     "iopub.execute_input": "2022-09-02T10:00:07.340947Z",
     "iopub.status.busy": "2022-09-02T10:00:07.339987Z",
     "iopub.status.idle": "2022-09-02T10:00:07.351544Z",
     "shell.execute_reply": "2022-09-02T10:00:07.350625Z"
    }
   },
   "outputs": [],
   "source": [
    "#"
   ]
  }
 ],
 "metadata": {
  "jupytext": {
   "formats": "ipynb,py:light"
  },
  "kernelspec": {
   "display_name": "Python 3",
   "language": "python",
   "name": "python3"
  },
  "language_info": {
   "codemirror_mode": {
    "name": "ipython",
    "version": 3
   },
   "file_extension": ".py",
   "mimetype": "text/x-python",
   "name": "python",
   "nbconvert_exporter": "python",
   "pygments_lexer": "ipython3",
   "version": "3.8.0"
  }
 },
 "nbformat": 4,
 "nbformat_minor": 5
}
