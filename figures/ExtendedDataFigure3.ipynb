{
 "cells": [
  {
   "cell_type": "markdown",
   "id": "7bf35deb",
   "metadata": {},
   "source": [
    "# Extended Data Figure 3: CEBRA produces consistent, highly decodable embeddings"
   ]
  },
  {
   "cell_type": "markdown",
   "id": "2fffaee7",
   "metadata": {},
   "source": [
    "## panel a"
   ]
  },
  {
   "cell_type": "code",
   "execution_count": 1,
   "id": "78d72cb2",
   "metadata": {
    "execution": {
     "iopub.execute_input": "2022-08-29T10:35:05.183279Z",
     "iopub.status.busy": "2022-08-29T10:35:05.182879Z",
     "iopub.status.idle": "2022-08-29T10:35:05.188575Z",
     "shell.execute_reply": "2022-08-29T10:35:05.187705Z"
    }
   },
   "outputs": [],
   "source": [
    "#"
   ]
  },
  {
   "cell_type": "markdown",
   "id": "fe65b038",
   "metadata": {},
   "source": [
    "## panel b"
   ]
  },
  {
   "cell_type": "code",
   "execution_count": 2,
   "id": "ef05eb2e",
   "metadata": {
    "execution": {
     "iopub.execute_input": "2022-08-29T10:35:05.192930Z",
     "iopub.status.busy": "2022-08-29T10:35:05.192555Z",
     "iopub.status.idle": "2022-08-29T10:35:05.196897Z",
     "shell.execute_reply": "2022-08-29T10:35:05.195896Z"
    }
   },
   "outputs": [],
   "source": [
    "# "
   ]
  }
 ],
 "metadata": {
  "jupytext": {
   "formats": "ipynb,py:light"
  },
  "kernelspec": {
   "display_name": "Python 3 (ipykernel)",
   "language": "python",
   "name": "python3"
  },
  "language_info": {
   "codemirror_mode": {
    "name": "ipython",
    "version": 3
   },
   "file_extension": ".py",
   "mimetype": "text/x-python",
   "name": "python",
   "nbconvert_exporter": "python",
   "pygments_lexer": "ipython3",
   "version": "3.9.12"
  }
 },
 "nbformat": 4,
 "nbformat_minor": 5
}
