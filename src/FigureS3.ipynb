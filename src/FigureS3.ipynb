{
 "cells": [
  {
   "cell_type": "markdown",
   "id": "e0538f32",
   "metadata": {},
   "source": [
    "## Figure S3: Hyperparameter changes on visualization and consistency."
   ]
  },
  {
   "cell_type": "markdown",
   "id": "70034805",
   "metadata": {},
   "source": [
    "## Figure S3a"
   ]
  },
  {
   "cell_type": "code",
   "execution_count": 1,
   "id": "130dd751",
   "metadata": {},
   "outputs": [],
   "source": [
    "# TODO: Temperature ablation plots"
   ]
  },
  {
   "cell_type": "markdown",
   "id": "b850cd38",
   "metadata": {},
   "source": [
    "## Figure S3b"
   ]
  },
  {
   "cell_type": "code",
   "execution_count": 2,
   "id": "4738594d",
   "metadata": {},
   "outputs": [],
   "source": [
    "# Consistency comparison across temperature values"
   ]
  }
 ],
 "metadata": {
  "jupytext": {
   "formats": "ipynb,auto:light"
  },
  "kernelspec": {
   "display_name": "Python 3 (ipykernel)",
   "language": "python",
   "name": "python3"
  },
  "language_info": {
   "codemirror_mode": {
    "name": "ipython",
    "version": 3
   },
   "file_extension": ".py",
   "mimetype": "text/x-python",
   "name": "python",
   "nbconvert_exporter": "python",
   "pygments_lexer": "ipython3",
   "version": "3.10.6"
  }
 },
 "nbformat": 4,
 "nbformat_minor": 5
}
