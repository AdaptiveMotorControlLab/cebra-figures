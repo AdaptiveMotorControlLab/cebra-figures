{
 "cells": [
  {
   "cell_type": "markdown",
   "id": "ea8decbe",
   "metadata": {},
   "source": [
    "# Extended Data Figure 3: CEBRA produces consistent, highly decodable embeddings"
   ]
  },
  {
   "cell_type": "markdown",
   "id": "9db86969",
   "metadata": {},
   "source": [
    "- Additional rat data shown for all algorithms we benchmarked (see Methods). CEBRA was trained with output latent 3D (the minimum) and all other methods were obtained with a 2D latent"
   ]
  },
  {
   "cell_type": "code",
   "execution_count": null,
   "id": "87b1f161",
   "metadata": {},
   "outputs": [],
   "source": [
    "import pandas as pd\n",
    "import matplotlib.pyplot as plt\n",
    "import seaborn as sns\n",
    "\n",
    "\n",
    "def scatter(data, index, ax, s=0.01, alpha=0.5):\n",
    "    mask = index[:, 1] > 0\n",
    "    ax.scatter(*data[mask].T, c=index[mask, 0], s=s, cmap=\"viridis\", alpha=alpha)\n",
    "    ax.scatter(*data[~mask].T, c=index[~mask, 0], s=s, cmap=\"cool\", alpha=alpha)\n",
    "\n",
    "\n",
    "df = pd.concat(\n",
    "  [\n",
    "    pd.read_hdf(\"../data/EDFigure3.h5\", key=\"data\"),\n",
    "    pd.read_hdf(\"../data/EDFigure3_extension.h5\", key=\"data\")\n",
    "  ], axis = 0).reset_index(drop = True)\n",
    "\n",
    "fig = plt.figure(figsize=(4 * 3, 7 * 3), dpi=600)\n",
    "for i in df.index:\n",
    "    ax = fig.add_subplot(7, 4, i + 1)\n",
    "    scatter(df.loc[i, \"emission\"][:, :2], df.loc[i, \"labels\"], ax=ax, s=0.5, alpha=0.7)\n",
    "    ax.set_yticklabels([])\n",
    "    ax.set_xticklabels([])\n",
    "    ax.set_xticks([])\n",
    "    ax.set_yticks([])\n",
    "    sns.despine(bottom=True, left=True, ax=ax)\n",
    "    # first row labels\n",
    "    if i // 4 == 0:\n",
    "        ax.set_title(f\"Rat {df.loc[i, 'animal']}\", fontsize = 18)\n",
    "    # first column labels\n",
    "    if i % 4 == 0:\n",
    "        ax.set_ylabel(df.loc[i, \"method\"], fontsize = 18)"
   ]
  }
 ],
 "metadata": {
  "jupytext": {
   "formats": "ipynb,py:light"
  },
  "kernelspec": {
   "display_name": "Python 3 (ipykernel)",
   "language": "python",
   "name": "python3"
  },
  "language_info": {
   "codemirror_mode": {
    "name": "ipython",
    "version": 3
   },
   "file_extension": ".py",
   "mimetype": "text/x-python",
   "name": "python",
   "nbconvert_exporter": "python",
   "pygments_lexer": "ipython3",
   "version": "3.10.8"
  }
 },
 "nbformat": 4,
 "nbformat_minor": 5
}
